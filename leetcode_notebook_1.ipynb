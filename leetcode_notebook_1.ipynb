{
  "cells": [
    {
      "cell_type": "markdown",
      "metadata": {
        "id": "view-in-github",
        "colab_type": "text"
      },
      "source": [
        "<a href=\"https://colab.research.google.com/github/rajput-t/leetcode_marathon/blob/main/leetcode_notebook_1.ipynb\" target=\"_parent\"><img src=\"https://colab.research.google.com/assets/colab-badge.svg\" alt=\"Open In Colab\"/></a>"
      ]
    },
    {
      "cell_type": "code",
      "execution_count": 1,
      "metadata": {
        "id": "hea_XKKy9s6E"
      },
      "outputs": [],
      "source": [
        "def run():\n",
        "    obj=Solution()\n",
        "    return obj"
      ]
    },
    {
      "cell_type": "code",
      "execution_count": null,
      "metadata": {
        "id": "6KrHgdzcOH1Q"
      },
      "outputs": [],
      "source": [
        "class Solution:\n",
        "    def furthestBuilding(self, heights, bricks, ladders):\n",
        "        h0 = [0]\n",
        "        l0 = []\n",
        "        for i in range(len(heights)-1):\n",
        "            diff = heights[i+1]-heights[i]\n",
        "\n",
        "            if diff > 0:\n",
        "                if bricks < diff:\n",
        "                    if not ladders > 0:\n",
        "                        if len(l0)>0:\n",
        "                            min_l0 = min(l0,key=lambda x:x[1])\n",
        "                            if min_l0[1]>bricks:\n",
        "                                return len(h0)-1\n",
        "                            else:\n",
        "                                h0[min_l0[0]]=min_l0[1]\n",
        "                                h0.append(0)\n",
        "                                l0.remove(min_l0)\n",
        "                                l0.append([i,diff])\n",
        "                                bricks-=min_l0[1]\n",
        "                                continue\n",
        "                        else:\n",
        "                            return len(h0)-1\n",
        "                    bricks+=max(h0)\n",
        "                    if bricks < diff:\n",
        "                        bricks-=max(h0)\n",
        "                        ladders-=1\n",
        "                        l0.append([i,diff])\n",
        "                        h0.append(0)\n",
        "                        continue\n",
        "                    l0.append([h0.index(max(h0)),max(h0)])\n",
        "                    h0[h0.index(max(h0))]=0\n",
        "                    ladders -= 1\n",
        "                h0.append(diff)\n",
        "                bricks-=diff\n",
        "            else:\n",
        "                h0.append(0)\n",
        "        return len(h0)-1\n",
        "\n"
      ]
    },
    {
      "cell_type": "code",
      "execution_count": null,
      "metadata": {
        "colab": {
          "base_uri": "https://localhost:8080/"
        },
        "id": "UvmiWKT8OrzR",
        "outputId": "f874f1a9-f4f2-4661-9952-875015f657c5"
      },
      "outputs": [
        {
          "data": {
            "text/plain": [
              "589"
            ]
          },
          "execution_count": 66,
          "metadata": {},
          "output_type": "execute_result"
        }
      ],
      "source": [
        "bricks = 33671263\n",
        "ladders = 108\n",
        "heights = [253710,459585,71981,223232,977918,148680,123527,250812,260416,554767,473621,88538,966794,644116,865416,590993,550004,374573,105036,568303,460987,24602,757598,519047,263800,315868,963895,266638,598245,713310,489802,364169,742274,973483,807739,253747,564636,472387,598445,675408,626061,527760,922748,244691,41163,108095,953208,54400,191957,182321,801110,526756,11220,560896,782344,565351,570890,931781,511665,108738,357367,853555,674526,388790,686349,554731,102668,335287,461231,496065,489980,525209,693696,140598,784402,564477,743153,156379,370768,94810,121932,338323,972441,553422,865236,627884,673412,16147,858309,802780,150410,657225,761430,916149,644587,364929,661236,207648,507409,209803,663553,296241,51843,758342,448408,310536,733500,390516,580506,313748,729366,961156,766804,752158,713426,946971,433800,611365,806559,950149,831368,871881,132092,644626,150762,487527,365094,316637,684249,740162,605893,272845,416251,905202,984909,602362,424697,686193,566240,159584,600277,767037,211677,441897,586509,965864,393340,497044,881539,145921,159055,866123,603476,657682,284714,85306,470415,534245,641462,472616,159434,421500,843442,634366,625668,444943,657933,129173,914540,215272,598415,457087,437568,490742,172811,212016,435680,599042,789308,279873,689943,369130,618428,524390,877649,118759,60586,37618,20797,492854,946585,583767,944693,62988,358292,708659,23496,966718,557539,131703,358231,215464,771609,375770,855917,147866,543477,786910,760512,468183,542081,373398,979543,126508,361409,842847,872593,746682,893518,457222,978730,161753,697245,205997,363180,807952,795175,808090,462585,658667,186220,858457,923762,700792,294201,584816,514737,261038,327627,205592,221896,444108,979369,129394,44001,790354,353917,72772,330118,360651,635275,849492,966042,843108,158554,406317,995111,147752,121006,486157,678653,217657,4288,573547,820817,164534,921608,308037,373838,385901,343399,813472,58859,346176,68090,539503,322652,958331,832724,585003,75794,228299,31211,302603,601041,362034,300803,347024,650585,172193,876895,603734,165956,796982,786231,738823,562729,158032,364908,988395,775023,671485,424571,572157,623273,772919,914302,661979,920229,614760,934156,511607,889533,382154,82654,973121,549095,639792,412821,305216,74071,571794,969979,932469,335153,898442,938912,729489,872970,874332,8390,345366,901364,245104,315592,895028,533836,427909,737421,161915,510434,768573,179267,237370,562023,650593,869876,544314,464374,701215,789191,746271,871247,385836,788092,890101,286938,367130,635751,295576,607054,913206,556383,512305,253121,461980,951444,192012,897432,140517,842228,924286,268918,765459,344159,347853,592899,247814,379693,421908,295638,672994,774285,78096,886320,998456,10915,581642,549650,905526,186991,586693,320053,829130,465779,191060,238711,415584,273709,35854,55818,305798,667280,334370,121051,665390,230729,51662,904228,971349,7088,567705,265941,380847,760602,280222,351148,518112,609328,381795,46766,301829,886537,338310,130937,813816,446885,126867,578861,996302,56516,316900,648733,457604,903338,974707,336231,878687,776626,583241,353383,591761,438716,892530,231901,959454,915103,50735,453313,519651,940657,68380,38339,339705,19207,844122,483005,582959,592635,870233,208322,862826,598864,989646,583679,219396,371194,111781,493739,313465,383867,545219,171577,761747,992356,973874,497603,976481,136374,138311,918066,787696,929197,589326,801358,944697,28038,211029,752621,210197,491050,939207,254024,145811,767376,922553,796100,15858,899164,950319,728378,563113,532136,705190,290216,359946,214594,327241,641000,385347,786200,700340,576438,227606,498337,451637,425192,286305,472053,335562,587556,683468,290205,997253,868480,320419,392391,128015,674737,410783,136490,46713,154232,574917,904387,99900,490640,268209,994867,135705,390652,412028,404195,490553,184029,624391,836288,619242,570500,367786,908994,934572,226481,281181,469810,376226,354931,55711,43299,487568,853741,556475,842100,133451,371270,820314,735709,859169,992745,981261,506744,573542,544798,335063,71332,345306,551165,522500,148531,323820,525891,571989,109699,540927,391815,383139,528328,941384,577084,148432,537377,589708,613443,589827,688798,501198,304829,719726,181892,891384,237429,447803,49953,555945,69576,765896,194628,866362,533750,798399,369884,258270,964160,796047,420697,486470,781692,825420,689886,392317,278581,151823,184594,295461,723312,604322,248126,43623,91154,600821,55136,709242,990838,263827,564093,735641,174057,932157,750399,807534,338221,830644,171022,156968,351523,814982,403402,975555,955973,400091,523040,382185,577810,257717,544345,243199,509472,450948,839442,387377,553239,145202,822954,478559,487143,514465,587609,575770,547307,386320,410846,81519,599793,874316,730403,913822,800625,96868,913119,843783,699,767204,432828,496436,348230,767865,455134,266270,324004,863226,758456,66451,431182,641607,514915,522399,164590,335706,829719,724524,981933,812770,192582,880771,71867,704720,691726,761694,868674,964177,287148,124076,155241,535262,856554,108951,453851,597675,592745,32413,774791,750298,66826,876820,567338,699491,336474,60148,776819,430070,546456,564666,776689,886534,68830,749993,157504,933346,39836,417088,481438,30183,515310,764031,876787,321614,765291,466180,941767,877507,658149,60699,413225,849839,376668,689777,491763,712459,5768,608757,161358,554199,132368,464770,89566,309794,430979,979239,62376,354441,582188,947427,569030,430121,826059,562654,461350,901008,191328,484599,615686,859104,366550,140695,229053,282037,289028,296120,883539,980557,365526,143257,658629,730361,683520,101817,442395,50455,199765,137552,653983,47041,102020,308470,523274,447051,345263,967056,525031,506873,170405,995568,977216,83193,279492,376521,946443,847471,845107,321145,866307,523882,135730,824806,927733,605908,580895,177233,443804,914175,905847,661407,483093,518439,789231,66585,447439,14824,861841,89137,913636,194682,166773,212398,259259,160638,435374,941416,140851,311224,54813,155003,595354,742575,668942,77310,96783,217826,211522,116834,391751,922905,730508,225636,265187,995541,329461,244649,951125,322487,140958,608238,511144,410963,335698,228967,487748,382037,261094,363854,557078,539851,519352,364988,444038,284404,730251,828294,608545,188095,466810,46659,673970,142329,93794,167913,30119,116528,592075,810599,14144,445947,51745,236481,878706,838520,310352,112640,612690,663852,546444,818881,868195,573845,390221,254379]\n",
        "\n",
        "s1=Solution()\n",
        "s1.furthestBuilding(heights,bricks,ladders)"
      ]
    },
    {
      "cell_type": "code",
      "execution_count": null,
      "metadata": {
        "colab": {
          "base_uri": "https://localhost:8080/"
        },
        "id": "2qGAHkn-aac7",
        "outputId": "3d522c0a-4ffd-4e59-aac0-dd416ed8cceb"
      },
      "outputs": [
        {
          "data": {
            "text/plain": [
              "[383139,\n",
              " 528328,\n",
              " 941384,\n",
              " 577084,\n",
              " 148432,\n",
              " 537377,\n",
              " 589708,\n",
              " 613443,\n",
              " 589827,\n",
              " 688798,\n",
              " 501198,\n",
              " 304829]"
            ]
          },
          "execution_count": 60,
          "metadata": {},
          "output_type": "execute_result"
        }
      ],
      "source": [
        "heights[585:597]"
      ]
    },
    {
      "cell_type": "code",
      "execution_count": null,
      "metadata": {
        "colab": {
          "base_uri": "https://localhost:8080/"
        },
        "id": "Tb2I-rC8RVK8",
        "outputId": "7a624f1f-cb66-4868-e86f-259806602a5f"
      },
      "outputs": [
        {
          "data": {
            "text/plain": [
              "4"
            ]
          },
          "execution_count": 57,
          "metadata": {},
          "output_type": "execute_result"
        }
      ],
      "source": [
        "bricks = 5\n",
        "ladders = 1\n",
        "heights = [4,2,7,6,9,14,12]\n",
        "\n",
        "s1=Solution()\n",
        "s1.furthestBuilding(heights,bricks,ladders)"
      ]
    },
    {
      "cell_type": "code",
      "execution_count": null,
      "metadata": {
        "id": "5NF5PAniRVEs"
      },
      "outputs": [],
      "source": []
    },
    {
      "cell_type": "code",
      "execution_count": null,
      "metadata": {
        "id": "u5BGZ7p6RVAs"
      },
      "outputs": [],
      "source": [
        "class Solution:\n",
        "    def furthestBuilding(self, heights, bricks, ladders):\n",
        "        l=[]\n",
        "        b=[]\n",
        "        for i in range(len(heights)-1):\n",
        "            diff = heights[i+1]-heights[i]\n",
        "            if diff > 0:\n",
        "                if diff < bricks:\n",
        "                    if ladders > 0:\n",
        "                        ladders-=1\n",
        "                        l.append([i,diff])\n",
        "                else:\n",
        "                    bricks-=diff\n",
        "                    b.append([i,diff])"
      ]
    },
    {
      "cell_type": "code",
      "execution_count": null,
      "metadata": {
        "id": "I5OPYWLxYWa8"
      },
      "outputs": [],
      "source": [
        "class Solution:\n",
        "    def twoSum(self, nums, target):\n",
        "        for i in range(len(nums)):\n",
        "            b = target-nums[i]\n",
        "            new_nums = nums[0:i]+nums[i+1:]\n",
        "            if b in new_nums:\n",
        "                j = new_nums.index(b)+1\n",
        "                return [i,j]"
      ]
    },
    {
      "cell_type": "code",
      "execution_count": null,
      "metadata": {
        "id": "k_bSfvOV4oMV"
      },
      "outputs": [],
      "source": [
        "class Solution:\n",
        "    def isPalindrome(self, x: int) -> bool:\n",
        "        str_x=f\"{x}\"\n",
        "        if str_x[::-1]==str_x:\n",
        "            return True\n",
        "        else:\n",
        "            return False"
      ]
    },
    {
      "cell_type": "code",
      "execution_count": null,
      "metadata": {
        "colab": {
          "base_uri": "https://localhost:8080/",
          "height": 37
        },
        "id": "MMDx-_8N4oQE",
        "outputId": "f79282e3-d0bf-4110-926c-89ec6a7f23e0"
      },
      "outputs": [
        {
          "data": {
            "application/vnd.google.colaboratory.intrinsic+json": {
              "type": "string"
            },
            "text/plain": [
              "'321-'"
            ]
          },
          "execution_count": 14,
          "metadata": {},
          "output_type": "execute_result"
        }
      ],
      "source": [
        "class Solution:\n",
        "    sum=0\n",
        "    roman_list = ['M','D','C','L','X','V','I']\n",
        "    roman_num = [1000,500,100,50,10,5,1]\n",
        "    roman = dict(zip(roman_list,roman_num))\n",
        "    def romanToInt(self, s):\n",
        "        for i in roman_list:\n",
        "            if :\n",
        "                continue\n",
        "            elif count_dict[i]==1:\n",
        "                j=s.index(i[0])\n",
        "                s1=self.romanToInt(s[0:j])\n",
        "                sum=sum+roman[i[0]]-s1\n",
        "            else:\n",
        "                j=s.index(i[])\n",
        "\n",
        "\n",
        "\n"
      ]
    },
    {
      "cell_type": "code",
      "execution_count": null,
      "metadata": {
        "colab": {
          "base_uri": "https://localhost:8080/"
        },
        "id": "t0XdkJ02-tiL",
        "outputId": "83abf372-9815-4ae9-b161-969dc0b49b2c"
      },
      "outputs": [
        {
          "data": {
            "text/plain": [
              "1"
            ]
          },
          "execution_count": 9,
          "metadata": {},
          "output_type": "execute_result"
        }
      ],
      "source": [
        "roman_list = ['M','D','C','L','X','V','I']\n",
        "roman_num = [1000,500,100,50,10,5,1]\n",
        "roman = dict(zip(roman_list,roman_num))\n",
        "\n",
        "s=\"XLVII\"\n",
        "num=47\n",
        "\n",
        "count_dict = dict([[i,s.count(i)] for i in list(roman.keys())])\n",
        "count_dict['X']\n",
        "\n",
        "s1=Solution()\n",
        "s1.romanToInt(str)"
      ]
    },
    {
      "cell_type": "code",
      "execution_count": null,
      "metadata": {
        "id": "54CaBaXFmhBD"
      },
      "outputs": [],
      "source": []
    },
    {
      "cell_type": "code",
      "execution_count": null,
      "metadata": {
        "colab": {
          "base_uri": "https://localhost:8080/"
        },
        "id": "QR4Wl-uD6a6O",
        "outputId": "4b2dea4a-3538-497f-b91e-c80740dfb087"
      },
      "outputs": [
        {
          "data": {
            "text/plain": [
              "[['M', 0], ['D', 0], ['C', 0], ['L', 1], ['X', 4], ['V', 1], ['I', 2]]"
            ]
          },
          "execution_count": 8,
          "metadata": {},
          "output_type": "execute_result"
        }
      ],
      "source": [
        "\n",
        "\n"
      ]
    },
    {
      "cell_type": "code",
      "execution_count": null,
      "metadata": {
        "colab": {
          "base_uri": "https://localhost:8080/"
        },
        "id": "Fyyd6AHe8JOr",
        "outputId": "afe94e62-df97-4f98-f130-d0109e457acb"
      },
      "outputs": [
        {
          "data": {
            "text/plain": [
              "6"
            ]
          },
          "execution_count": 11,
          "metadata": {},
          "output_type": "execute_result"
        }
      ],
      "source": [
        "len(roman)"
      ]
    },
    {
      "cell_type": "code",
      "execution_count": null,
      "metadata": {
        "colab": {
          "base_uri": "https://localhost:8080/"
        },
        "id": "srki9KFsmUdv",
        "outputId": "08c187bb-393f-4bbf-e388-507f32e02390"
      },
      "outputs": [
        {
          "data": {
            "text/plain": [
              "7"
            ]
          },
          "execution_count": 15,
          "metadata": {},
          "output_type": "execute_result"
        }
      ],
      "source": [
        "s= 'abccccdd'\n",
        "\n",
        "s1= Solution()\n",
        "s1.longestPalindrome(s)"
      ]
    },
    {
      "cell_type": "code",
      "execution_count": null,
      "metadata": {
        "id": "uv9u_FAOkDDg"
      },
      "outputs": [],
      "source": [
        "class Solution:\n",
        "    def longestPalindrome(self, s):\n",
        "        dict_s = {}\n",
        "        len_s = 0\n",
        "        for i in s:\n",
        "            if i in dict_s:\n",
        "                del dict_s[i]\n",
        "                len_s=len_s+2\n",
        "            else:\n",
        "                dict_s[i]=0\n",
        "        if len(dict_s)>0:\n",
        "            len_s+=1\n",
        "        return len_s"
      ]
    },
    {
      "cell_type": "code",
      "execution_count": null,
      "metadata": {
        "id": "_QxlLX-dqYGp"
      },
      "outputs": [],
      "source": [
        "class Solution:\n",
        "    def commonChars(self, words):\n",
        "        letters={}\n",
        "        letters_0=True\n",
        "        for letter in words[0]:\n",
        "            if letter in letters:\n",
        "                letters[letter]+=1\n",
        "            else:\n",
        "                letters[letter]=1\n",
        "                letters_0=False\n",
        "        for word in words:\n",
        "            if letters_0 is True:\n",
        "                break\n",
        "            for letter in letters.keys():\n",
        "                if letter not in word:\n",
        "                    letters[letter]=0\n",
        "                elif word.count(letter)<letters[letter]:\n",
        "                    letters[letter]-=letters[letter]-word.count(letter)\n",
        "                    print(letters)\n",
        "                if len(letters)==0:\n",
        "                    letters_0=True\n",
        "                    break\n",
        "            keys=letters.keys()\n",
        "            for key in list(keys):\n",
        "                if letters[key]==0:\n",
        "                    del letters[key]\n",
        "        letters_to_show=[]\n",
        "        for letter in letters:\n",
        "            for num in range(letters[letter]):\n",
        "                letters_to_show.append(letter)\n",
        "        return letters_to_show\n"
      ]
    },
    {
      "cell_type": "code",
      "execution_count": null,
      "metadata": {
        "colab": {
          "base_uri": "https://localhost:8080/"
        },
        "id": "WbQphdCBraMr",
        "outputId": "103ffc2f-350b-431d-e898-124325cf45a5"
      },
      "outputs": [
        {
          "data": {
            "text/plain": [
              "['e', 'l', 'l']"
            ]
          },
          "execution_count": 54,
          "metadata": {},
          "output_type": "execute_result"
        }
      ],
      "source": [
        "words= [\"bella\",\"label\",\"roller\"]\n",
        "\n",
        "s1=Solution()\n",
        "s1.commonChars(words)"
      ]
    },
    {
      "cell_type": "code",
      "execution_count": null,
      "metadata": {
        "id": "XgmMy_Uo6zHx"
      },
      "outputs": [],
      "source": [
        "class Solution:\n",
        "    def heightChecker(self, heights):\n",
        "        sorted_heights=sorted(heights)\n",
        "        diff = [0 if heights[i]==sorted_heights[i] else 1 for i in range(len(heights))]\n",
        "        return sum(diff)\n",
        "\n"
      ]
    },
    {
      "cell_type": "code",
      "execution_count": null,
      "metadata": {
        "colab": {
          "base_uri": "https://localhost:8080/"
        },
        "id": "_a03F-onA4-K",
        "outputId": "b678b1d7-bd54-461e-e4c1-86e1e3d1bdcc"
      },
      "outputs": [
        {
          "data": {
            "text/plain": [
              "3"
            ]
          },
          "execution_count": 63,
          "metadata": {},
          "output_type": "execute_result"
        }
      ],
      "source": [
        "heights=[1,1,4,2,1,3]\n",
        "\n",
        "s1=Solution()\n",
        "s1.heightChecker(heights)"
      ]
    },
    {
      "cell_type": "code",
      "execution_count": null,
      "metadata": {
        "id": "hZ6nmFLABCZ-"
      },
      "outputs": [],
      "source": [
        "class Solution:\n",
        "    def relativeSortArray(self, arr1, arr2):\n",
        "        new_arr1=[]\n",
        "        for i in range(len(arr2)):\n",
        "            new_arr1=new_arr1+[arr2[i]]*arr1.count(arr2[i])\n",
        "            for j in range(arr1.count(arr2[i])):\n",
        "                    arr1.remove(arr2[i])\n",
        "        arr1=sorted(arr1)\n",
        "        new_arr1=new_arr1+arr1\n",
        "        return new_arr1"
      ]
    },
    {
      "cell_type": "code",
      "execution_count": null,
      "metadata": {
        "colab": {
          "base_uri": "https://localhost:8080/"
        },
        "id": "4DQmQ3a1BfJF",
        "outputId": "e21d96a5-749a-4b1d-fc94-8b6b198fa6ad"
      },
      "outputs": [
        {
          "data": {
            "text/plain": [
              "[2, 2, 2, 1, 4, 3, 3, 9, 6, 7, 19]"
            ]
          },
          "execution_count": 10,
          "metadata": {},
          "output_type": "execute_result"
        }
      ],
      "source": [
        "arr1 = [2,3,1,3,2,4,6,7,9,2,19]\n",
        "arr2 = [2,1,4,3,9,6]\n",
        "\n",
        "s1=Solution()\n",
        "s1.relativeSortArray(arr1,arr2)"
      ]
    },
    {
      "cell_type": "code",
      "execution_count": null,
      "metadata": {
        "id": "tx_csCJPcvst"
      },
      "outputs": [],
      "source": []
    },
    {
      "cell_type": "code",
      "execution_count": null,
      "metadata": {
        "id": "seD0wf0ucv26"
      },
      "outputs": [],
      "source": []
    },
    {
      "cell_type": "code",
      "execution_count": null,
      "metadata": {
        "id": "r7uz-eg8cv8u"
      },
      "outputs": [],
      "source": [
        "class Solution:\n",
        "    def findMaximizedCapital(self, k, w, profits, capital):\n",
        "        diff=[[i,capital[i],profits[i]] for i in range(len(profits))]\n",
        "        diff=sorted(diff, key=lambda x:(x[2],-x[1]) , reverse=True) #fucking crazzzzyyyy key\n",
        "\n",
        "        while k>0:\n",
        "            if len(diff)>0:\n",
        "                for j in diff:\n",
        "                    if j[2]>0:\n",
        "                        if j[1]>w:\n",
        "                            no_project_found=True\n",
        "                            continue\n",
        "                        else:\n",
        "                            w+=j[2]\n",
        "                            k-=1\n",
        "                            no_project_found=False\n",
        "                            break\n",
        "                    else:\n",
        "                        return w\n",
        "                if no_project_found==True:\n",
        "                    return w\n",
        "                else:\n",
        "                    diff.remove(j)\n",
        "            else:\n",
        "                return w\n",
        "        return w\n"
      ]
    },
    {
      "cell_type": "code",
      "execution_count": null,
      "metadata": {
        "colab": {
          "base_uri": "https://localhost:8080/"
        },
        "id": "dorg-KOQrdby",
        "outputId": "95f9d731-1af0-4676-eea3-b329fcd8acdb"
      },
      "outputs": [
        {
          "data": {
            "text/plain": [
              "4"
            ]
          },
          "execution_count": 52,
          "metadata": {},
          "output_type": "execute_result"
        }
      ],
      "source": [
        "k = 2\n",
        "w = 0\n",
        "profits = [1,2,3]\n",
        "capital = [0,1,1]\n",
        "\n",
        "# diff=[[i,capital[i],profits[i]] for i in range(len(profits))]\n",
        "# print(diff)\n",
        "# diff=sorted(diff, key=lambda x:(x[2],-x[1]) , reverse=True)\n",
        "# diff\n",
        "\n",
        "s1=Solution()\n",
        "s1.findMaximizedCapital(k,w,profits,capital)\n"
      ]
    },
    {
      "cell_type": "code",
      "execution_count": null,
      "metadata": {
        "id": "5fNUCEvEudkO"
      },
      "outputs": [],
      "source": [
        "class Solution:\n",
        "    def minMovesToSeat(self, seats, students):\n",
        "        seats=sorted(seats)\n",
        "        students=sorted(students)\n",
        "        moves = 0\n",
        "        for i in range(len(seats)):\n",
        "            moves+=abs(seats[i]-students[i])\n",
        "        return moves"
      ]
    },
    {
      "cell_type": "code",
      "execution_count": null,
      "metadata": {
        "colab": {
          "base_uri": "https://localhost:8080/"
        },
        "id": "cabyG_tbIbxs",
        "outputId": "7b62f29e-442f-49da-acc3-35532c518b41"
      },
      "outputs": [
        {
          "data": {
            "text/plain": [
              "7"
            ]
          },
          "execution_count": 55,
          "metadata": {},
          "output_type": "execute_result"
        }
      ],
      "source": [
        "seats = [4,1,5,9]\n",
        "students = [1,3,2,6]\n",
        "\n",
        "s1=Solution()\n",
        "s1.minMovesToSeat(seats,students)"
      ]
    },
    {
      "cell_type": "code",
      "execution_count": null,
      "metadata": {
        "id": "ShpsTvIoIpwI"
      },
      "outputs": [],
      "source": [
        "class Solution:\n",
        "    def threeConsecutiveOdds(self, arr):\n",
        "        count=0\n",
        "        for i in arr:\n",
        "            if i%2==0:\n",
        "                count=0\n",
        "            if i%2!=0:\n",
        "                count+=1\n",
        "                if count==3:\n",
        "                    return True\n",
        "        return False"
      ]
    },
    {
      "cell_type": "code",
      "execution_count": null,
      "metadata": {
        "colab": {
          "base_uri": "https://localhost:8080/"
        },
        "id": "pDFy7tfxJaYU",
        "outputId": "2dea8acc-49ec-4c53-b140-2ecd1e679584"
      },
      "outputs": [
        {
          "data": {
            "text/plain": [
              "True"
            ]
          },
          "execution_count": 61,
          "metadata": {},
          "output_type": "execute_result"
        }
      ],
      "source": [
        "arr = [2,6,4,1,3,5]\n",
        "\n",
        "s1=Solution()\n",
        "s1.threeConsecutiveOdds(arr)"
      ]
    },
    {
      "cell_type": "code",
      "execution_count": null,
      "metadata": {
        "id": "uX_yM22EJ_JL"
      },
      "outputs": [],
      "source": [
        "class Solution:\n",
        "    def intersect(self, nums1, nums2):\n",
        "        ans=[]\n",
        "        if len(nums1)<len(nums2):\n",
        "            for i in nums1:\n",
        "                if i in nums2:\n",
        "                    ans.append(i)\n",
        "                    nums2.remove(i)\n",
        "        else:\n",
        "            for i in nums2:\n",
        "                if i in nums1:\n",
        "                    ans.append(i)\n",
        "                    nums1.remove(i)\n",
        "        return ans\n"
      ]
    },
    {
      "cell_type": "code",
      "execution_count": null,
      "metadata": {
        "colab": {
          "base_uri": "https://localhost:8080/"
        },
        "id": "HnT8TrYtMIkE",
        "outputId": "762bd878-5530-456a-ca4e-3a48dd61110c"
      },
      "outputs": [
        {
          "data": {
            "text/plain": [
              "[4, 9]"
            ]
          },
          "execution_count": 63,
          "metadata": {},
          "output_type": "execute_result"
        }
      ],
      "source": [
        "nums1 = [4,9,5]\n",
        "nums2 = [9,4,9,8,4]\n",
        "\n",
        "s1=Solution()\n",
        "s1.intersect(nums1,nums2)\n"
      ]
    },
    {
      "cell_type": "code",
      "execution_count": null,
      "metadata": {
        "id": "EvPY-UxuMYZu"
      },
      "outputs": [],
      "source": [
        "class Solution:\n",
        "    def passThePillow(self, n, time):\n",
        "        r=time%(n-1)\n",
        "        side=int(time/(n-1))\n",
        "        if side%2==0:\n",
        "            return 1+r\n",
        "        else:\n",
        "            return n-r"
      ]
    },
    {
      "cell_type": "code",
      "execution_count": null,
      "metadata": {
        "colab": {
          "base_uri": "https://localhost:8080/"
        },
        "id": "iICRNLD6M_4-",
        "outputId": "a355ea0c-2408-4c8a-a412-b93a91f553d3"
      },
      "outputs": [
        {
          "data": {
            "text/plain": [
              "5"
            ]
          },
          "execution_count": 18,
          "metadata": {},
          "output_type": "execute_result"
        }
      ],
      "source": [
        "n = 18\n",
        "time = 38\n",
        "\n",
        "\n",
        "s1=Solution()\n",
        "s1.passThePillow(n,time)"
      ]
    },
    {
      "cell_type": "code",
      "execution_count": null,
      "metadata": {
        "id": "kNOqME5hOr_w"
      },
      "outputs": [],
      "source": [
        "class Solution:\n",
        "    def numWaterBottles(self, numBottles, numExchange):\n",
        "        total=0\n",
        "        numEmpty=0\n",
        "        while numBottles>0:\n",
        "            total+=numBottles\n",
        "            numEmpty+=numBottles\n",
        "            numBottles=int(numEmpty/numExchange)\n",
        "            numEmpty=numEmpty%numExchange\n",
        "        return total\n"
      ]
    },
    {
      "cell_type": "code",
      "execution_count": null,
      "metadata": {
        "colab": {
          "base_uri": "https://localhost:8080/"
        },
        "id": "ZCGQ2S9A4GnE",
        "outputId": "7c2d3f8d-9ff8-47f7-fade-ec57e323a853"
      },
      "outputs": [
        {
          "data": {
            "text/plain": [
              "19"
            ]
          },
          "execution_count": 23,
          "metadata": {},
          "output_type": "execute_result"
        }
      ],
      "source": [
        "numBottles = 15\n",
        "numExchange = 4\n",
        "\n",
        "s1=Solution()\n",
        "s1.numWaterBottles(numBottles,numExchange)"
      ]
    },
    {
      "cell_type": "code",
      "execution_count": null,
      "metadata": {
        "id": "6An1uHiQ3SNP"
      },
      "outputs": [],
      "source": [
        "class Solution:\n",
        "    def luckyNumbers(self, matrix):\n",
        "        lucky=[]\n",
        "        element_found=False\n",
        "        for i in range(len(matrix)):\n",
        "            if not element_found:\n",
        "                for j in range(len(matrix[0])):\n",
        "                    if matrix[i][j] is min(matrix[i]) and \\\n",
        "                    matrix[i][j] is max([matrix[p][j] for p in range(len(matrix))]):\n",
        "                        lucky.append(matrix[i][j])\n",
        "                        element_found=True\n",
        "                        break\n",
        "            else:\n",
        "                element_found=False\n",
        "                continue\n",
        "        return lucky\n"
      ]
    },
    {
      "cell_type": "code",
      "execution_count": null,
      "metadata": {
        "id": "zlyOTSpdAFl2"
      },
      "outputs": [],
      "source": [
        "class Solution:\n",
        "    def luckyNumbers(self, matrix):\n",
        "        lucky=[]\n",
        "        for i in range(len(matrix)):\n",
        "            row_min=matrix[i].index(min(matrix[i]))\n",
        "            if min(matrix[i])==max([matrix[j][row_min] for j in range(len(matrix))]):\n",
        "                lucky.append(matrix[i][row_min])\n",
        "        return lucky"
      ]
    },
    {
      "cell_type": "code",
      "execution_count": null,
      "metadata": {
        "colab": {
          "base_uri": "https://localhost:8080/"
        },
        "id": "FPQqj5_q71nA",
        "outputId": "b81d2425-12a2-428c-f1b4-20db22c0a5ab"
      },
      "outputs": [
        {
          "data": {
            "text/plain": [
              "[12]"
            ]
          },
          "execution_count": 49,
          "metadata": {},
          "output_type": "execute_result"
        }
      ],
      "source": [
        "matrix = [[1,10,4,2],[9,3,8,7],[15,16,17,12]]\n",
        "\n",
        "s1=Solution()\n",
        "s1.luckyNumbers(matrix)"
      ]
    },
    {
      "cell_type": "code",
      "execution_count": null,
      "metadata": {
        "id": "S6IGmI6p8T4K"
      },
      "outputs": [],
      "source": [
        "class Solution:\n",
        "    def sortPeople(self, names, heights):\n",
        "        heights=sorted(list(zip(names,heights)), key=lambda x : x[1], reverse=True)\n",
        "        return [heights[i][0] for i in range(len(heights))]\n"
      ]
    },
    {
      "cell_type": "code",
      "execution_count": null,
      "metadata": {
        "colab": {
          "base_uri": "https://localhost:8080/"
        },
        "id": "wTq3iET0Fbg7",
        "outputId": "51b3a9b8-ad7c-4ac9-fc46-b26f5aebee80"
      },
      "outputs": [
        {
          "data": {
            "text/plain": [
              "['Mary', 'Emma', 'John']"
            ]
          },
          "execution_count": 61,
          "metadata": {},
          "output_type": "execute_result"
        }
      ],
      "source": [
        "names = [\"Mary\",\"John\",\"Emma\"]\n",
        "heights = [180,165,170]\n",
        "\n",
        "s1=Solution()\n",
        "s1.sortPeople(names,heights)"
      ]
    },
    {
      "cell_type": "code",
      "execution_count": null,
      "metadata": {
        "id": "KtONo5A0GQ9r"
      },
      "outputs": [],
      "source": [
        "class Solution:\n",
        "    def frequencySort(self, nums):\n",
        "        count_dict={}\n",
        "        for i in nums:\n",
        "            if i in count_dict:\n",
        "                count_dict[i]+=1\n",
        "            else:\n",
        "                count_dict[i]=1\n",
        "        count_dict=sorted(list(count_dict.items()), key= lambda x : (x[1],-x[0]))\n",
        "        nums=[]\n",
        "        for i in range(len(count_dict)):\n",
        "            nums+=[count_dict[i][0] for j in range(count_dict[i][1])]\n",
        "        return nums"
      ]
    },
    {
      "cell_type": "code",
      "execution_count": null,
      "metadata": {
        "colab": {
          "base_uri": "https://localhost:8080/"
        },
        "id": "CCMy1obeHPG1",
        "outputId": "450e1d8c-8b8c-4bab-c379-fa5393628226"
      },
      "outputs": [
        {
          "data": {
            "text/plain": [
              "[3, 1, 1, 2, 2, 2]"
            ]
          },
          "execution_count": 93,
          "metadata": {},
          "output_type": "execute_result"
        }
      ],
      "source": [
        "nums = [1,1,2,2,2,3]\n",
        "\n",
        "s1=Solution()\n",
        "s1.frequencySort(nums)"
      ]
    },
    {
      "cell_type": "code",
      "execution_count": null,
      "metadata": {
        "id": "i8XKQETHENtV"
      },
      "outputs": [],
      "source": [
        "class Solution:\n",
        "    def countSeniors(self, details):\n",
        "        senior_count=0\n",
        "        for i in details:\n",
        "            if (i[11:13])>60:\n",
        "                senior_count+=1\n",
        "        return senior_count\n",
        "\n"
      ]
    },
    {
      "cell_type": "code",
      "execution_count": null,
      "metadata": {
        "colab": {
          "base_uri": "https://localhost:8080/"
        },
        "id": "0u05PNelEOQ9",
        "outputId": "8bc62901-821b-4e6d-b5d8-58e8357d15e9"
      },
      "outputs": [
        {
          "data": {
            "text/plain": [
              "2"
            ]
          },
          "execution_count": 4,
          "metadata": {},
          "output_type": "execute_result"
        }
      ],
      "source": [
        "details = [\"7868190130M7522\",\"5303914400F9211\",\"9273338290F4010\"]\n",
        "\n",
        "s1=Solution()\n",
        "s1.countSeniors(details)"
      ]
    },
    {
      "cell_type": "code",
      "execution_count": null,
      "metadata": {
        "id": "uM2VRxuNEOWQ"
      },
      "outputs": [],
      "source": [
        "class Solution:\n",
        "    def canBeEqual(self, target, arr):\n",
        "        count_dict={}\n",
        "        for i in range(len(target)):\n",
        "            if target[i] in count_dict:\n",
        "                count_dict[target[i]]+=1\n",
        "            else:\n",
        "                count_dict[target[i]]=1\n",
        "        for i in range(len(target)):\n",
        "            if arr[i] in count_dict and count_dict[arr[i]]>0:\n",
        "                count_dict[arr[i]]-=1\n",
        "            else:\n",
        "                return False\n",
        "        return True"
      ]
    },
    {
      "cell_type": "code",
      "execution_count": null,
      "metadata": {
        "colab": {
          "base_uri": "https://localhost:8080/"
        },
        "id": "wXv-hj10EOaI",
        "outputId": "aa59178a-4d6a-4e53-acad-573940a31d74"
      },
      "outputs": [
        {
          "data": {
            "text/plain": [
              "False"
            ]
          },
          "execution_count": 16,
          "metadata": {},
          "output_type": "execute_result"
        }
      ],
      "source": [
        "target = [3,7,9]\n",
        "arr = [3,7,11]\n",
        "\n",
        "s1=Solution()\n",
        "s1.canBeEqual(target, arr)"
      ]
    },
    {
      "cell_type": "code",
      "execution_count": null,
      "metadata": {
        "id": "oyEycsdHQlRH"
      },
      "outputs": [],
      "source": [
        "class Solution:\n",
        "    def kthDistinct(self, arr, k):\n",
        "        kthstring=''\n",
        "        not_distinct=[] #should have just used DICTIONARY ... would have been faster\n",
        "        for i in range(len(arr)-1):\n",
        "            if arr[i] in arr[i+1:]:\n",
        "                if arr[i] not in not_distinct:\n",
        "                    not_distinct.append(arr[i])\n",
        "            else:\n",
        "                if arr[i] in not_distinct:\n",
        "                    continue\n",
        "                elif k == 1:\n",
        "                    return arr[i]\n",
        "                else:\n",
        "                    k-=1\n",
        "        if arr[-1] not in not_distinct and k==1:\n",
        "            return arr[-1]\n",
        "        return kthstring"
      ]
    },
    {
      "cell_type": "code",
      "execution_count": null,
      "metadata": {
        "colab": {
          "base_uri": "https://localhost:8080/",
          "height": 37
        },
        "id": "1-CuZcBfTinP",
        "outputId": "1616cf84-da3d-4ebc-eb1f-89fa41d07c62"
      },
      "outputs": [
        {
          "data": {
            "application/vnd.google.colaboratory.intrinsic+json": {
              "type": "string"
            },
            "text/plain": [
              "'a'"
            ]
          },
          "execution_count": 26,
          "metadata": {},
          "output_type": "execute_result"
        }
      ],
      "source": [
        "arr = [\"d\",\"b\",\"c\",\"b\",\"c\",\"a\"]\n",
        "k = 2\n",
        "\n",
        "s1=Solution()\n",
        "s1.kthDistinct(arr,k)"
      ]
    },
    {
      "cell_type": "code",
      "execution_count": null,
      "metadata": {
        "colab": {
          "base_uri": "https://localhost:8080/",
          "height": 37
        },
        "id": "6LDKteiIW4oT",
        "outputId": "8fe37713-c9b2-40b1-e864-9574d8de71cf"
      },
      "outputs": [
        {
          "data": {
            "application/vnd.google.colaboratory.intrinsic+json": {
              "type": "string"
            },
            "text/plain": [
              "''"
            ]
          },
          "execution_count": 29,
          "metadata": {},
          "output_type": "execute_result"
        }
      ],
      "source": [
        "arr=[\"npv\",\"o\",\"t\",\"tkgmy\",\"geejv\",\"sy\",\"kvvp\",\"yssp\",\"ki\",\"ly\",\"abs\",\"tfth\",\"r\",\"penh\",\"xgq\",\"b\",\"do\",\"j\",\"set\",\"hw\",\"yoxnb\",\"qmr\",\"cfzhj\",\"xlh\",\"xho\",\"jnrj\",\"t\",\"k\",\"diota\",\"nkq\",\"mfdzr\",\"zkg\",\"ukqyz\",\"blar\",\"lrwdk\",\"tho\",\"mcoao\",\"x\",\"mruj\",\"cvz\",\"eitm\",\"jtss\",\"qn\",\"invx\",\"vsw\",\"xg\",\"ofhkn\",\"pqf\",\"xs\",\"xjir\",\"bgg\",\"oqquu\",\"zvmg\",\"jpt\",\"m\",\"cg\",\"ina\",\"vqp\",\"p\",\"faaj\",\"n\",\"husyb\",\"mme\",\"bojx\",\"ei\",\"v\",\"oz\",\"v\",\"lfoh\",\"jxeb\",\"qudse\",\"nbx\",\"tqt\",\"xqzdb\",\"at\",\"hsffj\",\"pojf\",\"cxng\",\"qksuo\",\"p\",\"qep\",\"klap\",\"dbz\",\"tqg\",\"wonmb\",\"u\",\"npqlr\",\"jqlfc\",\"mts\",\"nsvem\",\"m\",\"ee\",\"hcm\",\"qlllc\",\"fwtod\",\"zma\",\"kz\",\"glctc\",\"uslr\",\"u\",\"ifd\",\"iosj\",\"cst\",\"sxz\",\"krn\",\"ovvk\",\"gmu\",\"om\",\"uds\",\"eer\",\"zvby\",\"ihid\",\"jyy\",\"q\",\"a\",\"s\",\"hwc\",\"tywzv\",\"vaow\",\"km\",\"gkw\",\"tyqc\",\"dvzqi\",\"eq\",\"hgxhe\",\"zqrl\",\"lbpwy\",\"ljflr\",\"npl\",\"nnoha\",\"xgjg\",\"i\",\"gw\",\"qwfd\",\"haia\",\"uiw\",\"ybu\",\"qod\",\"lw\",\"lx\",\"sv\",\"dua\",\"qjpdo\",\"o\",\"bxy\",\"nw\",\"nzg\",\"uyrky\",\"v\",\"tuz\",\"bqg\",\"hkyh\",\"tia\",\"p\",\"qre\",\"dfwq\",\"l\",\"fsltc\",\"s\",\"mmlt\",\"uyes\",\"owptb\",\"z\",\"kfp\",\"e\",\"tk\",\"kln\",\"po\",\"j\",\"meh\",\"mti\",\"ruw\",\"f\",\"espqx\",\"ovvf\",\"r\",\"lr\",\"hfa\",\"xljtb\",\"bx\",\"bmepk\",\"ypfb\",\"slyy\",\"b\",\"tn\",\"nhnh\",\"kl\",\"jr\",\"vrouf\",\"v\",\"lpfi\",\"pzynq\",\"r\",\"wkyj\",\"fcac\",\"mn\",\"iqivp\",\"boq\",\"afhg\",\"cktki\",\"h\",\"zez\",\"zfqc\",\"p\",\"aj\",\"ip\",\"r\",\"rxbr\",\"sblss\",\"bgp\",\"dbge\",\"ovqhb\",\"kydaf\",\"nhuo\",\"ezgr\",\"wpvap\",\"kffxm\",\"ts\",\"zhras\",\"iq\",\"r\",\"k\",\"mb\",\"q\",\"n\",\"o\",\"q\",\"ddpst\",\"ljr\",\"krcld\",\"bcbx\",\"vxe\",\"x\",\"ydm\",\"dsckr\",\"qsy\",\"kv\",\"oizuh\",\"pbdoz\",\"zpct\",\"fwnmd\",\"h\",\"r\",\"hsy\",\"xhgs\",\"pbn\",\"wsp\",\"bjl\",\"r\",\"e\",\"bnt\",\"ubq\",\"zsho\",\"ko\",\"ng\",\"eqax\",\"g\",\"swm\",\"nanr\",\"g\",\"jx\",\"r\",\"bxje\",\"hk\",\"vrf\",\"przxt\",\"fbko\",\"ak\",\"a\",\"kqw\",\"oy\",\"lf\",\"wc\",\"zbp\",\"fpgb\",\"zd\",\"rkzm\",\"cxuiv\",\"n\",\"v\",\"f\",\"dmpl\",\"jkr\",\"hel\",\"hots\",\"bfb\",\"zpm\",\"zk\",\"svx\",\"ae\",\"j\",\"xmw\",\"xmuhz\",\"cgwg\",\"bgst\",\"aeo\",\"cgjz\",\"dywzl\",\"hkdft\",\"vfv\",\"ertp\",\"oj\",\"k\",\"b\",\"i\",\"oqs\",\"olk\",\"ulhtk\",\"sxvj\",\"inryp\",\"ktxsv\",\"h\",\"mg\",\"mqzt\",\"syilu\",\"zhadm\",\"uxe\",\"mfhib\",\"ngmj\",\"pe\",\"pd\",\"ocw\",\"ujyh\",\"eneyl\",\"owj\",\"kio\",\"avcc\",\"xdr\",\"zi\",\"ytk\",\"cfi\",\"vqy\",\"c\",\"tyjwe\",\"thr\",\"cplln\",\"zzmwy\",\"pl\",\"lvruv\",\"gwe\",\"fpoye\",\"rer\",\"jijv\",\"yx\",\"txy\",\"f\",\"zyshj\",\"pirf\",\"d\",\"c\",\"mzfb\",\"zlh\",\"jvvo\",\"l\",\"kljqt\",\"en\",\"whc\",\"q\",\"fl\",\"ggdw\",\"bv\",\"wrip\",\"kzox\",\"dwun\",\"sxon\",\"l\",\"dhmfg\",\"uapmk\",\"dolxw\",\"xoqpk\",\"wc\",\"yi\",\"lg\",\"ucgjd\",\"hp\",\"kbuty\",\"m\",\"o\",\"lfabj\",\"ryjh\",\"n\",\"tqz\",\"iay\",\"bazm\",\"krwvf\",\"jeu\",\"ttkp\",\"oe\",\"cic\",\"a\",\"jjfi\",\"lild\",\"et\",\"fllw\",\"fbawm\",\"nkstk\",\"mqly\",\"xyys\",\"gxqe\",\"ppzfv\",\"zrv\",\"nbcx\",\"wm\",\"yi\",\"mlfh\",\"mbypp\",\"sg\",\"e\",\"onq\",\"rbtb\",\"lww\",\"eayk\",\"mefvx\",\"cqpg\",\"fnjlq\",\"y\",\"ptv\",\"ryif\",\"x\",\"gycr\",\"eylb\",\"b\",\"mt\",\"y\",\"a\",\"cotr\",\"msgb\",\"fmhj\",\"xw\",\"fxw\",\"de\",\"dln\",\"cobo\",\"vj\",\"pfe\",\"twuc\",\"gb\",\"a\",\"qbj\",\"dusp\",\"lcec\",\"j\",\"puz\",\"lua\",\"jopld\",\"kzqdo\",\"t\",\"u\",\"ctkg\",\"cdv\"]\n",
        "k=408\n",
        "\n",
        "# expected=''\n",
        "s1=Solution()\n",
        "s1.kthDistinct(arr,k)\n"
      ]
    },
    {
      "cell_type": "code",
      "execution_count": null,
      "metadata": {
        "id": "1bdtp4S2ZOO1"
      },
      "outputs": [],
      "source": [
        "class KthLargest:\n",
        "\n",
        "    def __init__(self, k, nums):\n",
        "        self.k=k\n",
        "        self.nums=sorted(nums)\n",
        "\n",
        "    def add(self, val):\n",
        "        low, high = 0, len(self.nums) - 1 #binary search came in clutch\n",
        "        while low <= high:\n",
        "            mid = (low + high) // 2\n",
        "            if self.nums[mid] < val:\n",
        "                low = mid + 1\n",
        "            else:\n",
        "                high = mid - 1\n",
        "        self.nums.insert(low, val)\n",
        "        if len(self.nums)<self.k:\n",
        "            return None\n",
        "        else:\n",
        "            # print(self.nums)\n",
        "            return self.nums[-self.k]\n",
        "\n",
        "# Your KthLargest object will be instantiated and called as such:\n",
        "# obj = KthLargest(k, nums)\n",
        "# param_1 = obj.add(val)"
      ]
    },
    {
      "cell_type": "code",
      "execution_count": null,
      "metadata": {
        "id": "aj-l6KVTdUAO"
      },
      "outputs": [],
      "source": [
        "# [[4, [7, 7, 7, 7, 8, 3]], [2], [10], [9], [9]]\n",
        "\n",
        "k=4\n",
        "nums=[7, 7, 7, 7, 8, 3]\n",
        "s1=KthLargest(k,nums)"
      ]
    },
    {
      "cell_type": "code",
      "execution_count": null,
      "metadata": {
        "colab": {
          "base_uri": "https://localhost:8080/"
        },
        "id": "cFXEzyvEi0e8",
        "outputId": "240d7bea-e160-45d7-e36a-ae340d8cda58"
      },
      "outputs": [
        {
          "name": "stdout",
          "output_type": "stream",
          "text": [
            "[2, 3, 7, 7, 7, 7, 8]\n",
            "7\n",
            "[2, 3, 7, 7, 7, 7, 8, 10]\n",
            "7\n",
            "[2, 3, 7, 7, 7, 7, 8, 9, 10]\n",
            "7\n",
            "[2, 3, 7, 7, 7, 7, 8, 9, 9, 10]\n",
            "8\n"
          ]
        }
      ],
      "source": [
        "print(s1.add(2))\n",
        "print(s1.add(10))\n",
        "print(s1.add(9))\n",
        "print(s1.add(9))"
      ]
    },
    {
      "cell_type": "code",
      "execution_count": null,
      "metadata": {
        "id": "m2aK7VjKi8WW"
      },
      "outputs": [],
      "source": [
        "class Solution:\n",
        "    def minLength(self, s):\n",
        "        while True:\n",
        "            if 'AB' in s:\n",
        "                s=s[0:s.find('AB')]+s[s.find('AB')+2:]\n",
        "                AB=True\n",
        "            else:\n",
        "                AB=False\n",
        "            if 'CD' in s:\n",
        "                s=s[0:s.find('CD')]+s[s.find('CD')+2:]\n",
        "                CD=True\n",
        "            else:\n",
        "                CD=False\n",
        "            if AB or CD:\n",
        "                continue\n",
        "            else:\n",
        "                return len(s)"
      ]
    },
    {
      "cell_type": "code",
      "execution_count": null,
      "metadata": {
        "id": "_zVGwNF-lmph"
      },
      "outputs": [],
      "source": [
        "s = \"ACBBD\"\n",
        "\n",
        "s1=Solution()\n",
        "s1.minLength(s)"
      ]
    },
    {
      "cell_type": "code",
      "execution_count": null,
      "metadata": {
        "colab": {
          "base_uri": "https://localhost:8080/"
        },
        "id": "Uosu71fImIj_",
        "outputId": "9f2bfc9a-e3ee-4982-9682-d6015d0da6c5"
      },
      "outputs": [
        {
          "data": {
            "text/plain": [
              "5"
            ]
          },
          "execution_count": 47,
          "metadata": {},
          "output_type": "execute_result"
        }
      ],
      "source": [
        "s.find('CD')"
      ]
    },
    {
      "cell_type": "code",
      "execution_count": null,
      "metadata": {
        "id": "fs969itsmN4J"
      },
      "outputs": [],
      "source": [
        "class Solution:\n",
        "    def lemonadeChange(self, bills):\n",
        "        total,b5,b10,b20 = 0,0,0,0\n",
        "        for i in bills:\n",
        "            if i == 5:\n",
        "                b5+=1\n",
        "\n",
        "            elif i == 10:\n",
        "                if b5>0:\n",
        "                    b5-=1\n",
        "                    b10+=1\n",
        "                else:\n",
        "                    return False\n",
        "            else:\n",
        "                if b5>0 and b10>0:\n",
        "                    b20+=1\n",
        "                    b5-=1\n",
        "                    b10-=1\n",
        "                elif b5>2:\n",
        "                    b20+=1\n",
        "                    b5-=3\n",
        "                else:\n",
        "                    return False\n",
        "        return True\n",
        "\n"
      ]
    },
    {
      "cell_type": "code",
      "execution_count": null,
      "metadata": {
        "colab": {
          "base_uri": "https://localhost:8080/"
        },
        "id": "Zb1Uq4WYHBMe",
        "outputId": "f7457e61-352c-45e9-fc10-879a5fc48b2b"
      },
      "outputs": [
        {
          "data": {
            "text/plain": [
              "True"
            ]
          },
          "execution_count": 7,
          "metadata": {},
          "output_type": "execute_result"
        }
      ],
      "source": [
        "bills = [5,5,10,20,5,5,5,5,5,5,5,5,5,10,5,5,20,5,20,5]\n",
        "\n",
        "s1=Solution()\n",
        "s1.lemonadeChange(bills)"
      ]
    },
    {
      "cell_type": "code",
      "execution_count": null,
      "metadata": {
        "id": "MtIcEey9Ncqu"
      },
      "outputs": [],
      "source": [
        "class Solution:\n",
        "    def findComplement(self, num):\n",
        "        complement=''\n",
        "        for i in bin(num)[2:]:\n",
        "            if i == '0':\n",
        "                complement=complement+'1'\n",
        "            else:\n",
        "                complement=complement+'0'\n",
        "        return int(complement,2)"
      ]
    },
    {
      "cell_type": "code",
      "execution_count": null,
      "metadata": {
        "id": "Gh2d15Z_NdV8"
      },
      "outputs": [],
      "source": [
        "num = 10\n",
        "\n",
        "# s1=Solution()\n",
        "# s1.findComplement(num)"
      ]
    },
    {
      "cell_type": "code",
      "execution_count": null,
      "metadata": {
        "id": "iRagFgv6Gn5b"
      },
      "outputs": [],
      "source": [
        "class Solution:\n",
        "    def construct2DArray(self, original, m, n):\n",
        "        new=[]\n",
        "        if m*n!=len(original):\n",
        "            return new\n",
        "        for i in range(m):\n",
        "            new.append(original[n*(i):(i+1)*n])\n",
        "        return new"
      ]
    },
    {
      "cell_type": "code",
      "execution_count": null,
      "metadata": {
        "colab": {
          "base_uri": "https://localhost:8080/"
        },
        "id": "sXMbk-3GUzc_",
        "outputId": "0af5060c-4828-4c55-e7a7-f9abda4e7536"
      },
      "outputs": [
        {
          "data": {
            "text/plain": [
              "[[1, 2, 3], [4, 5, 6], [7, 8, 9]]"
            ]
          },
          "execution_count": 15,
          "metadata": {},
          "output_type": "execute_result"
        }
      ],
      "source": [
        "original = [1,2,3,4,5,6,7,8,9]\n",
        "m = 3\n",
        "n = 3\n",
        "\n",
        "# original = [1,2]\n",
        "# m = 1\n",
        "# n = 1\n",
        "\n",
        "\n",
        "s1=Solution()\n",
        "s1.construct2DArray(original, m, n)"
      ]
    },
    {
      "cell_type": "code",
      "execution_count": null,
      "metadata": {
        "id": "El3Ss061Wj0o"
      },
      "outputs": [],
      "source": [
        "class Solution:\n",
        "    def getLucky(self, s, k):\n",
        "        i=0\n",
        "        new_s=''\n",
        "        while i<len(s):\n",
        "            new_s+=str(ord(s[i])-96)\n",
        "            i+=1\n",
        "        for j in range(k):\n",
        "            s=new_s\n",
        "            new_s=str(sum([int(i) for i in s]))\n",
        "        return int(new_s)"
      ]
    },
    {
      "cell_type": "code",
      "execution_count": null,
      "metadata": {
        "colab": {
          "base_uri": "https://localhost:8080/"
        },
        "id": "J8tCzAKjrZr-",
        "outputId": "cc47433a-48c2-4fe1-f952-34fc73792bef"
      },
      "outputs": [
        {
          "data": {
            "text/plain": [
              "8"
            ]
          },
          "execution_count": 46,
          "metadata": {},
          "output_type": "execute_result"
        }
      ],
      "source": [
        "s = \"zbax\"\n",
        "k = 2\n",
        "\n",
        "s1=Solution()\n",
        "s1.getLucky(s,k)"
      ]
    },
    {
      "cell_type": "code",
      "execution_count": null,
      "metadata": {
        "id": "CXw96qNwzuY4"
      },
      "outputs": [],
      "source": [
        "class Solution:\n",
        "    def minBitFlips(self, start, goal):\n",
        "        start=bin(start)[2:]\n",
        "        goal=bin(goal)[2:]\n",
        "        diff=len(goal)-len(start)\n",
        "        flip=0\n",
        "        if diff>0:\n",
        "            start='0'*diff+start\n",
        "        else:\n",
        "            goal='0'*((-1)*diff)+goal\n",
        "        for i in range(len(goal)):\n",
        "            if goal[i]==start[i]:\n",
        "                continue\n",
        "            else:\n",
        "                flip+=1\n",
        "        return flip"
      ]
    },
    {
      "cell_type": "code",
      "execution_count": null,
      "metadata": {
        "colab": {
          "base_uri": "https://localhost:8080/"
        },
        "id": "lDAqoh4W2uSP",
        "outputId": "c46cb21a-ac94-4673-a18c-84852d3df7fd"
      },
      "outputs": [
        {
          "name": "stdout",
          "output_type": "stream",
          "text": [
            "-1\n"
          ]
        },
        {
          "data": {
            "text/plain": [
              "3"
            ]
          },
          "execution_count": 70,
          "metadata": {},
          "output_type": "execute_result"
        }
      ],
      "source": [
        "start = 10\n",
        "goal = 7\n",
        "\n",
        "s1=Solution()\n",
        "s1.minBitFlips(start, goal)"
      ]
    },
    {
      "cell_type": "code",
      "execution_count": null,
      "metadata": {
        "id": "mnTgacJJ1bfQ"
      },
      "outputs": [],
      "source": [
        "class Solution:\n",
        "    def countConsistentStrings(self, allowed, words):\n",
        "        cc=len(words)\n",
        "        for i in words:\n",
        "            for j in set(i):\n",
        "                if j in allowed:\n",
        "                    continue\n",
        "                else:\n",
        "                    cc-=1\n",
        "                    break\n",
        "        return cc\n"
      ]
    },
    {
      "cell_type": "code",
      "execution_count": null,
      "metadata": {
        "colab": {
          "base_uri": "https://localhost:8080/"
        },
        "id": "-kd6wDsD1bkB",
        "outputId": "4e7431b1-81d9-4e8c-9258-ea183784caf3"
      },
      "outputs": [
        {
          "data": {
            "text/plain": [
              "7"
            ]
          },
          "execution_count": 72,
          "metadata": {},
          "output_type": "execute_result"
        }
      ],
      "source": [
        "allowed = \"abc\"\n",
        "words = [\"a\",\"b\",\"c\",\"ab\",\"ac\",\"bc\",\"abc\"]\n",
        "\n",
        "s1=run()\n",
        "s1.countConsistentStrings(allowed,words)"
      ]
    },
    {
      "cell_type": "code",
      "execution_count": null,
      "metadata": {
        "id": "36CI8yQa1bnv"
      },
      "outputs": [],
      "source": [
        "class Solution:\n",
        "    def uncommonFromSentences(self, s1, s2):\n",
        "        words={}\n",
        "        s=''\n",
        "        for i in [s1,s2]:\n",
        "            s=s+i\n",
        "            while True:\n",
        "                space=s.find(' ')\n",
        "                if space!=-1:\n",
        "                    if s[:space] in words:\n",
        "                        words[s[:space]]+=1\n",
        "                    else:\n",
        "                        words[s[:space]]=1\n",
        "                else:\n",
        "                    if s in words:\n",
        "                        words[s]+=1\n",
        "                        s=''\n",
        "                        break\n",
        "                    else:\n",
        "                        words[s]=1\n",
        "                        s=''\n",
        "                        break\n",
        "                s=s[space+1:]\n",
        "        return [i for i,j in words.items() if j == 1]"
      ]
    },
    {
      "cell_type": "code",
      "execution_count": null,
      "metadata": {
        "colab": {
          "base_uri": "https://localhost:8080/"
        },
        "id": "QUJRr5id9d_c",
        "outputId": "981fb903-b96c-4ed5-df2a-4979324ae6c4"
      },
      "outputs": [
        {
          "data": {
            "text/plain": [
              "['banana']"
            ]
          },
          "execution_count": 88,
          "metadata": {},
          "output_type": "execute_result"
        }
      ],
      "source": [
        "# s1=\"this apple is sweet\"\n",
        "# s2 = \"this apple is sour\"\n",
        "\n",
        "s1 = \"apple apple\"\n",
        "s2 = \"banana\"\n",
        "\n",
        "run().uncommonFromSentences(s1,s2)"
      ]
    },
    {
      "cell_type": "code",
      "execution_count": null,
      "metadata": {
        "id": "62pKf6YaE54Q"
      },
      "outputs": [],
      "source": [
        "class Solution:\n",
        "    def arrayRankTransform(self, arr):\n",
        "        temp_arr = sorted(arr)\n",
        "        rank_count=1\n",
        "        num_dict={}\n",
        "        for i in range(len(temp_arr)):\n",
        "            if temp_arr[i]>temp_arr[i-1]:\n",
        "                rank_count+=1\n",
        "            num_dict[temp_arr[i]]=rank_count\n",
        "        return [num_dict[i] for i in arr]"
      ]
    },
    {
      "cell_type": "code",
      "execution_count": null,
      "metadata": {
        "colab": {
          "base_uri": "https://localhost:8080/"
        },
        "id": "uY4UIjVKQ3pA",
        "outputId": "6dea5507-3d89-4c0f-a457-8e2fda5ce06d"
      },
      "outputs": [
        {
          "data": {
            "text/plain": [
              "[1, 1, 1, 1, 1, 1]"
            ]
          },
          "execution_count": 19,
          "metadata": {},
          "output_type": "execute_result"
        }
      ],
      "source": [
        "arr = [1,1,1,1,1,1]\n",
        "run().arrayRankTransform(arr)"
      ]
    },
    {
      "cell_type": "code",
      "execution_count": null,
      "metadata": {
        "id": "Iqv7h_CpH3J9"
      },
      "outputs": [],
      "source": [
        "class Solution:\n",
        "    def longestCommonPrefix(self, strs):\n",
        "        cp=''\n",
        "        min_len=min([len(i) for i in strs])\n",
        "        try:\n",
        "            temp_cp=strs[0][0]\n",
        "        except:\n",
        "            return cp\n",
        "        # j=0\n",
        "        while True:\n",
        "            # j+=1\n",
        "            for i in strs:\n",
        "                try:\n",
        "                    # print(min_len)\n",
        "                    # print(temp_cp)\n",
        "                    if i[:len(temp_cp)]==temp_cp:\n",
        "                        continue\n",
        "                    else:\n",
        "                        return cp\n",
        "                except:\n",
        "                    return cp\n",
        "            cp=temp_cp\n",
        "            try:\n",
        "                # print(min_len)\n",
        "                # print(temp_cp)\n",
        "                if len(temp_cp) == min_len:\n",
        "                    return cp\n",
        "                temp_cp=strs[0][:len(temp_cp)+1]\n",
        "            except:\n",
        "                return cp"
      ]
    },
    {
      "cell_type": "code",
      "execution_count": null,
      "metadata": {
        "colab": {
          "base_uri": "https://localhost:8080/",
          "height": 114
        },
        "id": "r5MccAsBPPH4",
        "outputId": "abbb60b8-84ca-4d19-9b22-a20ba2a4df07"
      },
      "outputs": [
        {
          "output_type": "stream",
          "name": "stdout",
          "text": [
            "1\n",
            "a\n",
            "1\n",
            "a\n"
          ]
        },
        {
          "output_type": "execute_result",
          "data": {
            "text/plain": [
              "'a'"
            ],
            "application/vnd.google.colaboratory.intrinsic+json": {
              "type": "string"
            }
          },
          "metadata": {},
          "execution_count": 20
        }
      ],
      "source": [
        "strs = [\"a\"]\n",
        "\n",
        "run().longestCommonPrefix(strs)"
      ]
    },
    {
      "cell_type": "code",
      "execution_count": null,
      "metadata": {
        "id": "mk9MLUo2RZXe"
      },
      "outputs": [],
      "source": [
        "class Solution:\n",
        "    def findMedianSortedArrays(self, nums1, nums2):\n",
        "        m=len(nums1)\n",
        "        n=len(nums2)\n",
        "        nums1+=nums2\n",
        "        nums1=sorted(nums1)\n",
        "        if (m+n)%2==0:\n",
        "            return (nums1[int(((m+n)/2)-1)]+nums1[int(((m+n)/2))])/2\n",
        "        else:\n",
        "            return nums1[int((m+n)/2)]\n",
        "\n"
      ]
    },
    {
      "cell_type": "code",
      "source": [
        "nums1 = [1,3]\n",
        "nums2 = [2]\n",
        "\n",
        "run().findMedianSortedArrays(nums1, nums2)"
      ],
      "metadata": {
        "colab": {
          "base_uri": "https://localhost:8080/"
        },
        "id": "js7rfPfh4FpW",
        "outputId": "371a9e55-31df-4f64-ae2b-e5218b4193d8"
      },
      "execution_count": null,
      "outputs": [
        {
          "output_type": "execute_result",
          "data": {
            "text/plain": [
              "2"
            ]
          },
          "metadata": {},
          "execution_count": 40
        }
      ]
    },
    {
      "cell_type": "code",
      "source": [
        "class Solution:\n",
        "    def isValid(self, s):\n",
        "        ss=''\n",
        "        for i in s:\n",
        "            try:\n",
        "                if i == '(':\n",
        "                    ss+='p'\n",
        "                elif i == ')' and ss[-1]=='p':\n",
        "                    ss=ss[:-1]\n",
        "                elif i == '{':\n",
        "                    ss+='c'\n",
        "                elif i == '}' and ss[-1]=='c':\n",
        "                    ss=ss[:-1]\n",
        "                elif i == '[':\n",
        "                    ss+='b'\n",
        "                elif i == ']' and ss[-1]=='b':\n",
        "                    ss=ss[:-1]\n",
        "                else:\n",
        "                    return False\n",
        "            except:\n",
        "                return False\n",
        "        if ss=='':\n",
        "            return True\n",
        "        else:\n",
        "            return False\n"
      ],
      "metadata": {
        "id": "EEGGTNWr5-vk"
      },
      "execution_count": null,
      "outputs": []
    },
    {
      "cell_type": "code",
      "source": [
        "s = \"()[{]}\"\n",
        "\n",
        "run().isValid(s)"
      ],
      "metadata": {
        "colab": {
          "base_uri": "https://localhost:8080/"
        },
        "id": "Tw5eau2JDb4r",
        "outputId": "bf551339-d495-4b84-f3cf-003378318aee"
      },
      "execution_count": null,
      "outputs": [
        {
          "output_type": "execute_result",
          "data": {
            "text/plain": [
              "False"
            ]
          },
          "metadata": {},
          "execution_count": 44
        }
      ]
    },
    {
      "cell_type": "code",
      "source": [
        "class Solution:\n",
        "    def longestPalindrome(self, s):\n",
        "        s_dict={i:ord(s[i]) for i in range(len(s))}\n",
        "        max=1\n",
        "        max_centre=[]\n",
        "        current_max=1\n",
        "        double_centre=False\n",
        "        for j,k in s_dict.items():\n",
        "            current_max=1\n",
        "            if ((len(s)-j)*2)+1 < max:\n",
        "                break\n",
        "            if double_centre==True:\n",
        "                double_centre=False\n",
        "                continue\n",
        "            else:\n",
        "                if s_dict[j]==s_dict[j+1]:\n",
        "                    double_centre=True\n",
        "                    current_max+=1\n",
        "                    if current_max>max:\n",
        "                        max=current_max\n",
        "                        max_centre=[j,j+1]\n",
        "                    while True:\n",
        "                        i=1\n",
        "                        try:\n",
        "                            if s_dict[j-i]==s_dict[j+1+i]:\n",
        "                                i+=1\n",
        "                                current_max+=2\n",
        "                                if current_max>max:\n",
        "                                    max=current_max\n",
        "                                    max_centre=[j,j+1]\n",
        "                            else:\n",
        "                                break\n",
        "                        except KeyError:\n",
        "                            break\n",
        "                else:\n",
        "                    while True:\n",
        "                        i=1\n",
        "                        try:\n",
        "                            if s_dict[j-i]==s_dict[j+1]:\n",
        "                                i+=1\n",
        "                                current_max+=2\n",
        "                                if current_max>max:\n",
        "                                    max=current_max\n",
        "                                    max_centre=[j]\n",
        "                            else:\n",
        "                                break\n",
        "                        except KeyError:\n",
        "                            break\n",
        "        if max%2==0 :\n",
        "            return s[j+1-(max/2):j+(max/2)]\n",
        "        else:\n",
        "            return s[j-((max-1)/2):j((max-1)/2)]\n",
        "\n"
      ],
      "metadata": {
        "id": "n8uXTqMkE5Rd"
      },
      "execution_count": null,
      "outputs": []
    },
    {
      "cell_type": "code",
      "source": [
        "class Solution:\n",
        "    def longestPalindrome(self, s):\n",
        "        s_dict = {i:ord(s[i]) for i in range(len(s))}\n",
        "        pos=[]\n",
        "        max=1\n",
        "        for i in range(len(s)):\n",
        "            j=1\n",
        "            while True:\n",
        "                try:\n",
        "                    if s_dict[i]==s_dict[i+j]:\n",
        "                        j+=1\n",
        "                    else:\n",
        "                        j-=1\n",
        "                        break\n",
        "                except KeyError:\n",
        "                    j-=1\n",
        "                    break\n",
        "            k=1\n",
        "            while True:\n",
        "                try:\n",
        "                    if s_dict[i-k]==s_dict[i+j+k]:\n",
        "                        k+=1\n",
        "                    else:\n",
        "                        k-=1\n",
        "                        break\n",
        "                except KeyError:\n",
        "                    k-=1\n",
        "                    break\n",
        "            if max<(j+1+2*k):\n",
        "                max=(j+1+2*k)\n",
        "                pos=[i,j,k]\n",
        "        if max==1:\n",
        "            return s[0]\n",
        "        return s[pos[0]-pos[2]:pos[0]+pos[1]+pos[2]+1]"
      ],
      "metadata": {
        "id": "V1z0FfjbdAI8"
      },
      "execution_count": null,
      "outputs": []
    },
    {
      "cell_type": "code",
      "source": [
        "s = \"a\"\n",
        "\n",
        "run().longestPalindrome(s)"
      ],
      "metadata": {
        "id": "-1aqw7mdGuvb",
        "colab": {
          "base_uri": "https://localhost:8080/",
          "height": 37
        },
        "outputId": "848f3ebd-d423-4b91-b022-52302df99c21"
      },
      "execution_count": null,
      "outputs": [
        {
          "output_type": "execute_result",
          "data": {
            "text/plain": [
              "'a'"
            ],
            "application/vnd.google.colaboratory.intrinsic+json": {
              "type": "string"
            }
          },
          "metadata": {},
          "execution_count": 22
        }
      ]
    },
    {
      "cell_type": "code",
      "source": [
        "class Solution:\n",
        "    def strStr(self, haystack, needle):\n",
        "        return haystack.find(needle)"
      ],
      "metadata": {
        "id": "SIkhc2Vh9aBT"
      },
      "execution_count": null,
      "outputs": []
    },
    {
      "cell_type": "code",
      "source": [
        "# haystack = \"sadbutsad\"\n",
        "# needle = \"sad\"\n",
        "\n",
        "haystack = \"leetcode\"\n",
        "needle = \"leeto\"\n",
        "\n",
        "run().strStr(haystack,needle)"
      ],
      "metadata": {
        "colab": {
          "base_uri": "https://localhost:8080/"
        },
        "id": "SRmaydtPB-v2",
        "outputId": "f0f74f7c-d421-410b-988a-cd6946338ed4"
      },
      "execution_count": null,
      "outputs": [
        {
          "output_type": "execute_result",
          "data": {
            "text/plain": [
              "-1"
            ]
          },
          "metadata": {},
          "execution_count": 35
        }
      ]
    },
    {
      "cell_type": "code",
      "source": [
        "class Solution:\n",
        "    def removeElement(self, nums, val):\n",
        "        count=0\n",
        "        while True:\n",
        "            if val in nums:\n",
        "                nums.remove(val)\n",
        "                count+=1\n",
        "            else:\n",
        "                break\n",
        "        l=len(nums)\n",
        "        #  nums+[0]*count\n",
        "        return l"
      ],
      "metadata": {
        "id": "TxY_yGU9CaTL"
      },
      "execution_count": null,
      "outputs": []
    },
    {
      "cell_type": "code",
      "source": [
        "nums = [3,2,2,3]\n",
        "val = 3\n",
        "\n",
        "run().removeElement(nums,val)"
      ],
      "metadata": {
        "colab": {
          "base_uri": "https://localhost:8080/"
        },
        "id": "gdFhn1JiD7rj",
        "outputId": "c5adbdb6-0546-4e29-943a-3b84fd0e921b"
      },
      "execution_count": null,
      "outputs": [
        {
          "output_type": "execute_result",
          "data": {
            "text/plain": [
              "[2, 2, 0, 0]"
            ]
          },
          "metadata": {},
          "execution_count": 38
        }
      ]
    },
    {
      "cell_type": "code",
      "source": [
        "nums = [3,2,2,3]\n",
        "val = 3\n",
        "nums.remove(val)\n",
        "nums"
      ],
      "metadata": {
        "colab": {
          "base_uri": "https://localhost:8080/"
        },
        "id": "dYOmVe2aChnH",
        "outputId": "12ad9b86-9cac-4548-8946-e5b2aa05a843"
      },
      "execution_count": null,
      "outputs": [
        {
          "output_type": "execute_result",
          "data": {
            "text/plain": [
              "[2, 2, 3]"
            ]
          },
          "metadata": {},
          "execution_count": 36
        }
      ]
    },
    {
      "cell_type": "code",
      "source": [
        "class Solution:\n",
        "    def searchInsert(self, nums, target):\n",
        "        low,high=0,len(nums)-1\n",
        "        while True:\n",
        "            mid=(low+high)//2\n",
        "            if high-low==0:\n",
        "                if target>nums[high]:\n",
        "                    return 1\n",
        "                else:\n",
        "                    return 0\n",
        "            elif (high-low)!=1:\n",
        "                if target>nums[mid]:\n",
        "                    low=mid\n",
        "                elif target<nums[mid]:\n",
        "                    high=mid\n",
        "                else:\n",
        "                    return mid\n",
        "            else:\n",
        "                if target==nums[high]:\n",
        "                    return high\n",
        "                elif target==nums[low] or target<nums[low]:\n",
        "                    return low\n",
        "                elif target>nums[high]:\n",
        "                    return high+1\n",
        "                else:\n",
        "                    return low+1"
      ],
      "metadata": {
        "id": "R9GXl9eyEZpS"
      },
      "execution_count": null,
      "outputs": []
    },
    {
      "cell_type": "code",
      "source": [
        "nums = [1,3,5,6]\n",
        "target = 7\n",
        "\n",
        "run().searchInsert(nums,target)"
      ],
      "metadata": {
        "colab": {
          "base_uri": "https://localhost:8080/"
        },
        "id": "KuXC1dyuF1WV",
        "outputId": "fad87b94-b0ef-4eb2-80cd-f4b46a2eb88c"
      },
      "execution_count": null,
      "outputs": [
        {
          "output_type": "execute_result",
          "data": {
            "text/plain": [
              "4"
            ]
          },
          "metadata": {},
          "execution_count": 60
        }
      ]
    },
    {
      "cell_type": "code",
      "source": [
        "class Solution:\n",
        "    def lengthOfLastWord(self, s):\n",
        "        count=0\n",
        "        if len(s)>1:\n",
        "            for i in range(1,len(s)+1):\n",
        "                if s[-i]==' ':\n",
        "                    if count==0:\n",
        "                        continue\n",
        "                    else:\n",
        "                        return count\n",
        "                else:\n",
        "                    count+=1\n",
        "        else:\n",
        "            if s[0]!=' ':\n",
        "                return 1\n",
        "        return count"
      ],
      "metadata": {
        "id": "hAI5jOGaIb3j"
      },
      "execution_count": null,
      "outputs": []
    },
    {
      "cell_type": "code",
      "source": [
        "s = \"   fly me   to   the moon  \"\n",
        "# s = \"luffy is still joyboy\"\n",
        "\n",
        "run().lengthOfLastWord(s)"
      ],
      "metadata": {
        "colab": {
          "base_uri": "https://localhost:8080/"
        },
        "id": "VGYW5wV5L0bI",
        "outputId": "a3fe3918-dc4d-4bd6-81d9-79bcd2c9c3d0"
      },
      "execution_count": null,
      "outputs": [
        {
          "output_type": "execute_result",
          "data": {
            "text/plain": [
              "4"
            ]
          },
          "metadata": {},
          "execution_count": 71
        }
      ]
    },
    {
      "cell_type": "code",
      "source": [
        "class Solution:\n",
        "    def addBinary(self, a, b):\n",
        "        diff=len(a)-len(b)\n",
        "        if diff<0:\n",
        "            a='0'*((-1)*(diff)+1)+a\n",
        "            b='0'+b\n",
        "        else:\n",
        "            b='0'*((diff)+1)+b\n",
        "            a='0'+a\n",
        "        s=''\n",
        "        carry=False\n",
        "        for i in range(1,len(a)+1):\n",
        "            # print(i)\n",
        "            # print(s)\n",
        "            if carry==True:\n",
        "                if a[-i]==b[-i]:\n",
        "                    s='1'+s\n",
        "                    if a[-i]=='0':\n",
        "                        carry=False\n",
        "                else:\n",
        "                    s='0'+s\n",
        "            else:\n",
        "                if a[-i]==b[-i]:\n",
        "                    s='0'+s\n",
        "                    if a[-i]=='1':\n",
        "                        carry=True\n",
        "                else:\n",
        "                    s='1'+s\n",
        "        while True:\n",
        "            if s[0]=='0'and len(s)>1:\n",
        "                s=s[1:]\n",
        "            else:\n",
        "                return s\n"
      ],
      "metadata": {
        "id": "TFxumiryBOYk"
      },
      "execution_count": null,
      "outputs": []
    },
    {
      "cell_type": "code",
      "source": [
        "a = \"00\"\n",
        "b = \"0\"\n",
        "\n",
        "run().addBinary(a,b)"
      ],
      "metadata": {
        "colab": {
          "base_uri": "https://localhost:8080/",
          "height": 37
        },
        "id": "ppKkv_E0BTDd",
        "outputId": "02b1b827-3dd0-4713-be24-579ece73e50f"
      },
      "execution_count": null,
      "outputs": [
        {
          "output_type": "execute_result",
          "data": {
            "text/plain": [
              "'0'"
            ],
            "application/vnd.google.colaboratory.intrinsic+json": {
              "type": "string"
            }
          },
          "metadata": {},
          "execution_count": 16
        }
      ]
    },
    {
      "cell_type": "code",
      "source": [
        "class Solution:\n",
        "    def convert(self, s, numRows):\n",
        "        op=''\n",
        "        try:\n",
        "            for i in [s[(numRows-1)*2*j] for j in range(len(s)//((numRows-1)*2))+1]:\n",
        "                op+=i\n",
        "        except:\n",
        "            print(op)\n",
        "        for i in range(1,numRows):\n",
        "            j=0\n",
        "            while ((numRows-1)*2*j-i)<len(s) or ((numRows-1)*2*j+i)<len(s):\n",
        "                if j == 0:\n",
        "                    op+=str((numRows-1)*2*j+i)\n",
        "                    # s[(numRows-1)*2*j+i]\n",
        "                    s=s[:(numRows-1)*2*j+i]+' '+s[(numRows-1)*2*j+i+1:]\n",
        "                    print(op)\n",
        "                    j+=1\n",
        "                else:\n",
        "                    if s[(numRows-1)*2*j-i]!=' ':\n",
        "                        op+=str((numRows-1)*2*j-i)\n",
        "                        # s[(numRows-1)*2*j-i]\n",
        "                        s=s[:(numRows-1)*2*j-i]+' '+s[(numRows-1)*2*j+i:]\n",
        "                        print(op)\n",
        "                    try:\n",
        "                        op+=str((numRows-1)*2*j+i)\n",
        "                        # s[(numRows-1)*2*j+i]\n",
        "                        s=s[:(numRows-1)*2*j+i]+' '+s[(numRows-1)*2*j+i+1:]\n",
        "                        print(op)\n",
        "                        j+=1\n",
        "                    except:\n",
        "                        j+=1\n",
        "                        continue\n",
        "        return op"
      ],
      "metadata": {
        "id": "5_wMujweSAAN"
      },
      "execution_count": null,
      "outputs": []
    },
    {
      "cell_type": "code",
      "source": [
        "s = \"PAYPALISHIRING\"\n",
        "numRows = 3\n",
        "# s='0123456789012345'\n",
        "run().convert(s,numRows)"
      ],
      "metadata": {
        "id": "VdQ4i5pABOul",
        "colab": {
          "base_uri": "https://localhost:8080/",
          "height": 267
        },
        "outputId": "72eb1b1e-4b73-4b62-9d8f-909f3fc09a1d"
      },
      "execution_count": null,
      "outputs": [
        {
          "output_type": "stream",
          "name": "stdout",
          "text": [
            "\n",
            "1\n",
            "13\n",
            "135\n",
            "1357\n",
            "13579\n",
            "1357911\n",
            "135791113\n",
            "1357911132\n",
            "13579111326\n",
            "1357911132610\n",
            "135791113261014\n"
          ]
        },
        {
          "output_type": "execute_result",
          "data": {
            "text/plain": [
              "'135791113261014'"
            ],
            "application/vnd.google.colaboratory.intrinsic+json": {
              "type": "string"
            }
          },
          "metadata": {},
          "execution_count": 11
        }
      ]
    },
    {
      "cell_type": "code",
      "source": [
        "class Solution:\n",
        "    def mySqrt(self, x): #long division code\n",
        "        sx=str(x)\n",
        "        num_at_hand=''\n",
        "        rem=''\n",
        "        sqrt=''\n",
        "        div=''\n",
        "        i=0\n",
        "        while True:\n",
        "            if i == 0:\n",
        "                if len(sx)%2==0:\n",
        "                    num_at_hand=int(sx[i:i+2])\n",
        "                    i+=2\n",
        "                    for j in range(10,0,-1):\n",
        "                        if num_at_hand<(int(div)+j*j):\n",
        "                            continue\n",
        "                        else:\n",
        "                            sqrt+=str(j)\n",
        "                            num_at_hand-=j*j\n",
        "                            div+=str(j) # did not finish it tho\n",
        "                else:\n",
        "                    num_at_hand='0'+sx[i]\n",
        "                    i+=1\n",
        "            else:\n",
        "                num_at_hand=int(rem)*100+int(sx[i:i+2])\n",
        "\n",
        "\n"
      ],
      "metadata": {
        "id": "7KWmu1_Ys-y8"
      },
      "execution_count": null,
      "outputs": []
    },
    {
      "cell_type": "code",
      "source": [
        "x=8\n",
        "\n",
        "run().mySqrt(x)"
      ],
      "metadata": {
        "id": "FBhqsEFTYGql"
      },
      "execution_count": null,
      "outputs": []
    },
    {
      "cell_type": "code",
      "source": [
        "class Solution:\n",
        "    def generate(self, numRows):\n",
        "        pyramid=[[1]]\n",
        "        for i in range(1,numRows):\n",
        "            pyramid.append([1]+[pyramid[i-1][j-1]+pyramid[i-1][j] for j in range(1,i)]+[1])\n",
        "        return pyramid\n"
      ],
      "metadata": {
        "id": "kmwViyLnyLef"
      },
      "execution_count": null,
      "outputs": []
    },
    {
      "cell_type": "code",
      "source": [
        "numRows=5\n",
        "\n",
        "run().generate(numRows)"
      ],
      "metadata": {
        "colab": {
          "base_uri": "https://localhost:8080/"
        },
        "id": "n9kGQqLM8F0w",
        "outputId": "bc95eb78-3d4e-4e90-fc6a-a3873baabac4"
      },
      "execution_count": null,
      "outputs": [
        {
          "output_type": "execute_result",
          "data": {
            "text/plain": [
              "[[1], [1, 1], [1, 2, 1], [1, 3, 3, 1], [1, 4, 6, 4, 1]]"
            ]
          },
          "metadata": {},
          "execution_count": 18
        }
      ]
    },
    {
      "cell_type": "code",
      "source": [
        "class Solution:\n",
        "    def minimumTotal(self, triangle):\n",
        "        min_total=0\n",
        "        loc=0\n",
        "        for i in triangle:\n",
        "            if len(i)==1:\n",
        "                min_total+=i[0]\n",
        "            else:\n",
        "'''\n",
        "here i realised that i need to look for the branched posibilities\n",
        "down the line for when chosing an entirely not so optimal branch leads\n",
        "to a number that is so low that it reduced the total drastically making\n",
        "it the optimal solution\n",
        "'''\n",
        "\n"
      ],
      "metadata": {
        "id": "7-CRXSYz-Hom"
      },
      "execution_count": null,
      "outputs": []
    },
    {
      "cell_type": "code",
      "source": [
        "triangle = [[2],[3,4],[6,5,7],[4,1,8,3]]\n",
        "\n",
        "run().minimumTotal(triangle)"
      ],
      "metadata": {
        "id": "eVf5PtaO-03U"
      },
      "execution_count": null,
      "outputs": []
    },
    {
      "cell_type": "code",
      "source": [
        "from inspect import formatannotation\n",
        "class Solution:\n",
        "    def isPalindrome(self, s):\n",
        "        acc=[i for i in range(48,58)]+[i for i in range(65,91)]+[i for i in range(97,123)]\n",
        "        ACC=[i for i in range(65,91)]\n",
        "        acc_1=[i for i in range(48,58)]\n",
        "        front_bumper=0\n",
        "        rear_bumper=0\n",
        "        i=0\n",
        "        while True:\n",
        "            if (i+front_bumper)>=(len(s)-(i+rear_bumper+1)):\n",
        "                break\n",
        "            else:\n",
        "                while True:\n",
        "                    if (i+front_bumper)>=(len(s)-(i+rear_bumper+1)):\n",
        "                        break\n",
        "                    if ord(s[i+front_bumper]) in acc:\n",
        "                        if ord(s[-(i+rear_bumper+1)]) in acc:\n",
        "                            if ord(s[-(i+rear_bumper+1)]) in acc_1 and ord(s[i+front_bumper]) in acc_1:\n",
        "                                if ord(s[-(i+rear_bumper+1)])==ord(s[i+front_bumper]):\n",
        "                                    break\n",
        "                                else:\n",
        "                                    return False\n",
        "                            elif ord(s[-(i+rear_bumper+1)]) in acc_1 or ord(s[i+front_bumper]) in acc_1:\n",
        "                                return False\n",
        "                            elif ord(s[-(i+rear_bumper+1)])==ord(s[i+front_bumper]):\n",
        "                                break\n",
        "                            elif (ord(s[-(i+rear_bumper+1)])+32)==ord(s[i+front_bumper]):\n",
        "                                break\n",
        "                            elif ord(s[-(i+rear_bumper+1)])==(ord(s[i+front_bumper])+32):\n",
        "                                break\n",
        "                            else:\n",
        "                                return False\n",
        "                        else:\n",
        "                            rear_bumper+=1\n",
        "                    else:\n",
        "                        front_bumper+=1\n",
        "            i+=1\n",
        "        return True"
      ],
      "metadata": {
        "id": "RDI7lp3TCCzL"
      },
      "execution_count": null,
      "outputs": []
    },
    {
      "cell_type": "code",
      "source": [
        "s=\"A man, a plan, a canal: Panama\"\n",
        "# s='racecar'\n",
        "run().isPalindrome(s)\n",
        "\n",
        "#0 48\n",
        "#9 57\n",
        "#A 65\n",
        "#Z 90\n",
        "#a 97\n",
        "#z 122"
      ],
      "metadata": {
        "colab": {
          "base_uri": "https://localhost:8080/"
        },
        "id": "zohoE2ICCDaC",
        "outputId": "3b23d433-68ff-4dba-a599-761d7fe4502d"
      },
      "execution_count": null,
      "outputs": [
        {
          "output_type": "execute_result",
          "data": {
            "text/plain": [
              "True"
            ]
          },
          "metadata": {},
          "execution_count": 20
        }
      ]
    },
    {
      "cell_type": "code",
      "source": [
        "class Solution:\n",
        "    def reverse(self, x):\n",
        "        a=str(x)\n",
        "        if a[0]=='-':\n",
        "            a=a[0]+a[:0:-1]\n",
        "        else:\n",
        "            a=a[::-1]\n",
        "        a=int(a)\n",
        "        if a>((2**31)-1) or a<(-2**31):\n",
        "            return 0\n",
        "        else:\n",
        "            return int(a)"
      ],
      "metadata": {
        "id": "6sAX3BQmJBhN"
      },
      "execution_count": null,
      "outputs": []
    },
    {
      "cell_type": "code",
      "source": [
        "x=123\n",
        "\n",
        "run().reverse(x)"
      ],
      "metadata": {
        "colab": {
          "base_uri": "https://localhost:8080/"
        },
        "id": "ECnDsZ5zlDKO",
        "outputId": "c70d7630-3db9-4955-ccb5-25b30a3532ec"
      },
      "execution_count": null,
      "outputs": [
        {
          "output_type": "execute_result",
          "data": {
            "text/plain": [
              "321"
            ]
          },
          "metadata": {},
          "execution_count": 10
        }
      ]
    },
    {
      "cell_type": "code",
      "source": [
        "class Solution:\n",
        "    def maxArea(self, height):\n",
        "        max_area=0\n",
        "        for i in range(len(heights)):\n"
      ],
      "metadata": {
        "id": "X7wsDXdUl5hM"
      },
      "execution_count": null,
      "outputs": []
    },
    {
      "cell_type": "code",
      "source": [
        "height = [1,8,6,2,5,4,8,3,7]\n",
        "run().maxArea(height)"
      ],
      "metadata": {
        "id": "_I-1M6PDrZHQ"
      },
      "execution_count": null,
      "outputs": []
    },
    {
      "cell_type": "code",
      "source": [
        "class Solution:\n",
        "    def myAtoi(self, s):\n",
        "        s=s.strip()\n",
        "        num=0\n",
        "        multiplier = 1\n",
        "        if len(s)==0:\n",
        "            return 0\n",
        "        if s[0]=='-':\n",
        "            multiplier = -1\n",
        "            s=s[1:]\n",
        "        elif s[0]=='+':\n",
        "            s=s[1:]\n",
        "        for i in range(len(s)):\n",
        "            if s[i] not in '0123456789':\n",
        "                return multiplier*(num)\n",
        "            else:\n",
        "                num=num*10\n",
        "                num+=int(s[i])\n",
        "                # num+=int(s[i])*(10**(len(s)-i-1))\n",
        "            if multiplier*num> (2**31 - 1) or multiplier*num<(-(2**31)):\n",
        "                if multiplier==1:\n",
        "                    return (2**31 - 1)\n",
        "                else:\n",
        "                    return (-(2**31))\n",
        "        return multiplier*num"
      ],
      "metadata": {
        "id": "VygU6CcwBMKD"
      },
      "execution_count": null,
      "outputs": []
    },
    {
      "cell_type": "code",
      "source": [
        "s = \"-1337c0d3\"\n",
        "\n",
        "run().myAtoi(s)"
      ],
      "metadata": {
        "colab": {
          "base_uri": "https://localhost:8080/"
        },
        "id": "mPW5WK8aBzH0",
        "outputId": "2f29a204-98b6-4f22-891e-7172cfafb371"
      },
      "execution_count": null,
      "outputs": [
        {
          "output_type": "execute_result",
          "data": {
            "text/plain": [
              "-1337"
            ]
          },
          "metadata": {},
          "execution_count": 39
        }
      ]
    },
    {
      "cell_type": "code",
      "source": [
        "s=[i for i in range(10)]\n",
        "for i in range(len(s)-1,-1,-1):\n",
        "    print(i)"
      ],
      "metadata": {
        "id": "dPZxh3g9Hguk",
        "colab": {
          "base_uri": "https://localhost:8080/"
        },
        "outputId": "72810055-4153-4210-a349-d454a0bb1802"
      },
      "execution_count": null,
      "outputs": [
        {
          "output_type": "stream",
          "name": "stdout",
          "text": [
            "9\n",
            "8\n",
            "7\n",
            "6\n",
            "5\n",
            "4\n",
            "3\n",
            "2\n",
            "1\n",
            "0\n"
          ]
        }
      ]
    },
    {
      "cell_type": "code",
      "source": [
        "class Solution:\n",
        "    def reverseString(self, s):\n",
        "        \"\"\"\n",
        "        Do not return anything, modify s in-place instead.\n",
        "        \"\"\"\n",
        "        i=0\n",
        "        j=len(s)-1\n",
        "        temp=0\n",
        "        while i < j:\n",
        "            temp=s[i]\n",
        "            s[i]=s[j]\n",
        "            s[j]=temp\n",
        "            i+=1\n",
        "            j-=1"
      ],
      "metadata": {
        "id": "tTk9cNAOeFr0"
      },
      "execution_count": null,
      "outputs": []
    },
    {
      "cell_type": "code",
      "source": [
        "s=[\"h\",\"e\",\"l\",\"l\",\"o\"]\n",
        "run().reverseString(s)\n",
        "print(s)"
      ],
      "metadata": {
        "colab": {
          "base_uri": "https://localhost:8080/"
        },
        "id": "h-ONtN9QewJE",
        "outputId": "e7170ebb-00f6-4c55-d379-3ab6465ebd89"
      },
      "execution_count": null,
      "outputs": [
        {
          "output_type": "stream",
          "name": "stdout",
          "text": [
            "['o', 'l', 'l', 'e', 'h']\n"
          ]
        }
      ]
    },
    {
      "cell_type": "code",
      "source": [
        "class NumArray:\n",
        "\n",
        "    def __init__(self, nums):\n",
        "        self.nums=nums\n",
        "\n",
        "    def sumRange(self, left, right):\n",
        "        return sum(self.nums[left:right+1])\n",
        "\n",
        "\n",
        "# Your NumArray object will be instantiated and called as such:\n",
        "# obj = NumArray(nums)\n",
        "# param_1 = obj.sumRange(left,right)"
      ],
      "metadata": {
        "id": "pqqC26__l1T6"
      },
      "execution_count": null,
      "outputs": []
    },
    {
      "cell_type": "code",
      "source": [
        "nums=[-2, 0, 3, -5, 2, -1]\n",
        "\n",
        "obj=NumArray(nums)\n",
        "obj.sumRange(0,2)\n"
      ],
      "metadata": {
        "colab": {
          "base_uri": "https://localhost:8080/"
        },
        "id": "kGbP-ttQGCme",
        "outputId": "1c3803be-9123-4485-bf89-7d4974d9954b"
      },
      "execution_count": null,
      "outputs": [
        {
          "output_type": "execute_result",
          "data": {
            "text/plain": [
              "1"
            ]
          },
          "metadata": {},
          "execution_count": 15
        }
      ]
    },
    {
      "cell_type": "code",
      "source": [
        "obj.sumRange(0, 2)"
      ],
      "metadata": {
        "colab": {
          "base_uri": "https://localhost:8080/"
        },
        "id": "xtSNWHMEGec1",
        "outputId": "da76c6fc-2fc8-4d6c-a080-8cd5f019e5aa"
      },
      "execution_count": null,
      "outputs": [
        {
          "output_type": "execute_result",
          "data": {
            "text/plain": [
              "1"
            ]
          },
          "metadata": {},
          "execution_count": 19
        }
      ]
    },
    {
      "cell_type": "code",
      "source": [
        "obj.sumRange(2, 5)"
      ],
      "metadata": {
        "colab": {
          "base_uri": "https://localhost:8080/"
        },
        "id": "J0L6t3tHGi6V",
        "outputId": "772ca2b7-13c1-4e54-e303-96e180c704b4"
      },
      "execution_count": null,
      "outputs": [
        {
          "output_type": "execute_result",
          "data": {
            "text/plain": [
              "-1"
            ]
          },
          "metadata": {},
          "execution_count": 20
        }
      ]
    },
    {
      "cell_type": "code",
      "source": [
        "obj.sumRange(0, 5)"
      ],
      "metadata": {
        "colab": {
          "base_uri": "https://localhost:8080/"
        },
        "id": "f-JXILvFGjA3",
        "outputId": "5ae0a3c6-4c66-4198-cce2-12b1a0fb93ee"
      },
      "execution_count": null,
      "outputs": [
        {
          "output_type": "execute_result",
          "data": {
            "text/plain": [
              "-3"
            ]
          },
          "metadata": {},
          "execution_count": 21
        }
      ]
    },
    {
      "cell_type": "code",
      "source": [
        "class Solution:\n",
        "    def wordPattern(self, pattern, s):\n",
        "        last_mark=0\n",
        "        s_tokens=[]\n",
        "        for i in range(len(s)):                  # making a list from the string s\n",
        "            if s[i]==' ':\n",
        "                s_tokens.append(s[last_mark:i])\n",
        "                last_mark=i+1\n",
        "            elif i==len(s)-1:\n",
        "                s_tokens.append(s[last_mark:])\n",
        "        if len(s_tokens)!=len(pattern):          # checking if number of tokens\n",
        "            print(1)\n",
        "            print(s_tokens)\n",
        "            print(pattern)\n",
        "            return False                         # and number of patterns elements are same or not\n",
        "        s_dict={}\n",
        "        for i in range(len(s_tokens)):           # making a count of the tokens in s\n",
        "            if s_tokens[i] in s_dict:\n",
        "                s_dict[s_tokens[i]].append(i)\n",
        "            else:\n",
        "                s_dict[s_tokens[i]]=[i]\n",
        "        pattern_dict={}\n",
        "        for i in range(len(pattern)):            # making a count of the elements in patterns\n",
        "            if pattern[i] in pattern_dict:\n",
        "                pattern_dict[pattern[i]].append(i)\n",
        "            else:\n",
        "                pattern_dict[pattern[i]]=[i]\n",
        "        if len(list(s_dict.items()))!=len(list(pattern_dict.items())): # checking the number of unique\n",
        "            print(s_tokens)\n",
        "            print(s_dict)\n",
        "            print(pattern_dict)\n",
        "            print(2)\n",
        "            return False                                               # elemenst in each dictionaries\n",
        "        s_dict=list(s_dict.items())\n",
        "        pattern_dict=list(pattern_dict.items())\n",
        "        print(s_dict)\n",
        "        print(pattern_dict)\n",
        "        for i in range(len(s_dict)):\n",
        "            if s_dict[i][1]!=pattern_dict[i][1]:\n",
        "                print(3)\n",
        "                return False\n",
        "        return True\n",
        "\n"
      ],
      "metadata": {
        "id": "mICmjYGkOM6m"
      },
      "execution_count": null,
      "outputs": []
    },
    {
      "cell_type": "code",
      "source": [
        "pattern = \"abba\"\n",
        "s = \"dog cat cat fish\"\n",
        "\n",
        "run().wordPattern(pattern,s)"
      ],
      "metadata": {
        "id": "NZt9hrC1WSCr",
        "colab": {
          "base_uri": "https://localhost:8080/"
        },
        "outputId": "f4adb17e-0c46-43ce-d803-21bc90bbec39"
      },
      "execution_count": null,
      "outputs": [
        {
          "output_type": "stream",
          "name": "stdout",
          "text": [
            "['dog', 'cat', 'cat', 'fish']\n",
            "{'dog': [0], 'cat': [1, 2], 'fish': [3]}\n",
            "{'a': [0, 3], 'b': [1, 2]}\n",
            "2\n"
          ]
        },
        {
          "output_type": "execute_result",
          "data": {
            "text/plain": [
              "False"
            ]
          },
          "metadata": {},
          "execution_count": 33
        }
      ]
    },
    {
      "cell_type": "code",
      "source": [
        "class Solution:\n",
        "    def isPowerOfThree(self, n):\n",
        "        x=1\n",
        "        if n>0:\n",
        "            if n>=3:                    # for positive x values\n",
        "                while 3**x<n:\n",
        "                    x+=1\n",
        "                if 3**x==n:\n",
        "                    return True\n",
        "                else:\n",
        "                    return False\n",
        "            else:                       # for negative x values where 3**x take\n",
        "                while 3**x>n:\n",
        "                    x-=1                # less than 1 values\n",
        "                if 3**x==n:\n",
        "                    return True\n",
        "                else:\n",
        "                    return False\n",
        "        else:                           # for when n is negative which can never\n",
        "            return False                # happen in exponential functin hence return False"
      ],
      "metadata": {
        "id": "TXue7BYuQmaf"
      },
      "execution_count": null,
      "outputs": []
    },
    {
      "cell_type": "code",
      "source": [
        "n=1/(3**2)\n",
        "run().isPowerOfThree(n)"
      ],
      "metadata": {
        "id": "adaCVUIuZLqg",
        "colab": {
          "base_uri": "https://localhost:8080/"
        },
        "outputId": "f0ece0ed-24fc-438a-c165-0b9f8fc5df67"
      },
      "execution_count": null,
      "outputs": [
        {
          "output_type": "execute_result",
          "data": {
            "text/plain": [
              "False"
            ]
          },
          "metadata": {},
          "execution_count": 60
        }
      ]
    },
    {
      "cell_type": "code",
      "source": [
        "class Solution:\n",
        "    def reverseVowels(self, s):\n",
        "        target = ['a','e','i','o','u','A','E','I','O','U']\n",
        "        list_of_vowels=[]\n",
        "        for i in range(len(s)):\n",
        "            if s[i] in target:\n",
        "                list_of_vowels.append(s[i])\n",
        "                s=s[:i]+'_'+s[i+1:]\n",
        "        for i in range(len(s)):\n",
        "            if s[i]=='_':\n",
        "                s=s[:i]+list_of_vowels.pop()+s[i+1:]\n",
        "        return s"
      ],
      "metadata": {
        "id": "atRrXanZgbLO"
      },
      "execution_count": null,
      "outputs": []
    },
    {
      "cell_type": "code",
      "source": [
        "    class Solution:\n",
        "        def reverseVowels(self, s):\n",
        "            target = ['a','e','i','o','u','A','E','I','O','U']\n",
        "            i,j=0,len(s)-1\n",
        "            while i<j:                                      # 2 pointers approach\n",
        "                if s[i] in target:\n",
        "                    if s[j] in target:\n",
        "                        try:\n",
        "                            s=s[:i]+s[j]+s[i+1:j]+s[i]+s[j+1:]\n",
        "                            j-=1\n",
        "                            i+=1\n",
        "                        except IndexError as e: # for when last letter is a vowel\n",
        "                            s=s[:i]+s[j]+s[i+1:j]+s[i]\n",
        "                            j-=1\n",
        "                            i+=1\n",
        "                    else:\n",
        "                        j-=1\n",
        "                else:\n",
        "                    i+=1\n",
        "            return s\n"
      ],
      "metadata": {
        "id": "jQRL-blYRC3v"
      },
      "execution_count": null,
      "outputs": []
    },
    {
      "cell_type": "code",
      "source": [
        "s='leetcode'\n",
        "run().reverseVowels(s)"
      ],
      "metadata": {
        "colab": {
          "base_uri": "https://localhost:8080/",
          "height": 37
        },
        "id": "FjOZSi0ydhOJ",
        "outputId": "ed55b4aa-00fa-4af7-e267-2566887b3559"
      },
      "execution_count": null,
      "outputs": [
        {
          "output_type": "execute_result",
          "data": {
            "text/plain": [
              "'leotcede'"
            ],
            "application/vnd.google.colaboratory.intrinsic+json": {
              "type": "string"
            }
          },
          "metadata": {},
          "execution_count": 78
        }
      ]
    },
    {
      "cell_type": "code",
      "source": [
        "class Solution:\n",
        "    def intersection(self, nums1, nums2):\n",
        "        if len(nums1)>len(nums2):\n",
        "            intersecting_nums=[]\n",
        "            for i in set(nums1):\n",
        "                if i in nums2:\n",
        "                    intersecting_nums.append(i)\n",
        "        else:\n",
        "            intersecting_nums=[]\n",
        "            for i in set(nums2):\n",
        "                if i in nums1:\n",
        "                    intersecting_nums.append(i)\n",
        "        return intersecting_nums"
      ],
      "metadata": {
        "id": "IZV0SZynfHUR"
      },
      "execution_count": null,
      "outputs": []
    },
    {
      "cell_type": "code",
      "source": [
        "nums1 = [1,2,2,1]\n",
        "nums2 = [2,2]\n",
        "\n",
        "run().intersection(nums1, nums2)"
      ],
      "metadata": {
        "colab": {
          "base_uri": "https://localhost:8080/"
        },
        "id": "4n3LZZoSDqv1",
        "outputId": "151a9ab1-4f1c-4074-93fb-ba2818219d8e"
      },
      "execution_count": null,
      "outputs": [
        {
          "output_type": "execute_result",
          "data": {
            "text/plain": [
              "[2]"
            ]
          },
          "metadata": {},
          "execution_count": 7
        }
      ]
    },
    {
      "cell_type": "code",
      "source": [
        "for i in set([1,2,3,4,5,5,4,2]):\n",
        "    print(i)"
      ],
      "metadata": {
        "colab": {
          "base_uri": "https://localhost:8080/"
        },
        "id": "RrMs3cbVDrD9",
        "outputId": "efb7bf2c-7e10-42e8-a28a-4e12d97d4ea8"
      },
      "execution_count": null,
      "outputs": [
        {
          "output_type": "stream",
          "name": "stdout",
          "text": [
            "1\n",
            "2\n",
            "3\n",
            "4\n",
            "5\n"
          ]
        }
      ]
    },
    {
      "cell_type": "code",
      "source": [
        "sqrs=[]\n",
        "i=0\n",
        "while True:\n",
        "    if i*i < (2**31):\n",
        "        sqrs.append(i*i)\n",
        "        i+=1\n",
        "    else:\n",
        "        break\n",
        "print(len(sqrs))\n",
        "print(sqrs[-1])"
      ],
      "metadata": {
        "colab": {
          "base_uri": "https://localhost:8080/"
        },
        "id": "esxvTmV-FZHL",
        "outputId": "61e35b4b-df33-4857-f894-08122041924a"
      },
      "execution_count": null,
      "outputs": [
        {
          "output_type": "stream",
          "name": "stdout",
          "text": [
            "46341\n",
            "2147395600\n"
          ]
        }
      ]
    },
    {
      "cell_type": "code",
      "source": [
        "class Solution:\n",
        "    def isPerfectSquare(self, num):\n",
        "        i=0\n",
        "        while True:\n",
        "            if i*i < (2**31) and i*i <= num:\n",
        "                if i*i==num:\n",
        "                    return True\n",
        "                else:\n",
        "                    i+=1\n",
        "            else:\n",
        "                return False\n"
      ],
      "metadata": {
        "id": "QkYIZQblSG0R"
      },
      "execution_count": null,
      "outputs": []
    },
    {
      "cell_type": "code",
      "source": [
        "num=17\n",
        "\n",
        "run().isPerfectSquare(num)"
      ],
      "metadata": {
        "colab": {
          "base_uri": "https://localhost:8080/"
        },
        "id": "FHqku5YGSSjo",
        "outputId": "4a2e53cc-0e68-456b-e93a-a0df1ad6e5e6"
      },
      "execution_count": null,
      "outputs": [
        {
          "output_type": "execute_result",
          "data": {
            "text/plain": [
              "False"
            ]
          },
          "metadata": {},
          "execution_count": 18
        }
      ]
    },
    {
      "cell_type": "code",
      "source": [
        "class Solution:\n",
        "    def canConstruct(self, ransomNote, magazine):\n",
        "        if len(ransomNote)>len(magazine):\n",
        "            return False\n",
        "        ransomNote_dict={}\n",
        "        for i in range(len(ransomNote)):\n",
        "            if ransomNote[i] in ransomNote_dict:\n",
        "                ransomNote_dict[ransomNote[i]]+=1\n",
        "            else:\n",
        "                ransomNote_dict[ransomNote[i]]=1\n",
        "        for i in range(len(list(ransomNote_dict.items()))):\n",
        "            # print(list(ransomNote_dict.items())[i])\n",
        "            if list(ransomNote_dict.items())[i][0] not in magazine:\n",
        "                return False\n",
        "            else:\n",
        "                if list(ransomNote_dict.items())[i][1]>magazine.count(list(ransomNote_dict.items())[i][0]):\n",
        "                    return False\n",
        "        return True"
      ],
      "metadata": {
        "id": "Ppp0Pqw7TNAP"
      },
      "execution_count": null,
      "outputs": []
    },
    {
      "cell_type": "code",
      "source": [
        "ransomNote = \"aaa\"\n",
        "magazine = \"aab\"\n",
        "\n",
        "run().canConstruct(ransomNote,magazine)"
      ],
      "metadata": {
        "colab": {
          "base_uri": "https://localhost:8080/"
        },
        "id": "cXa-B215VDk9",
        "outputId": "5b18e22f-de27-4fa0-e116-4c40defb6bd4"
      },
      "execution_count": null,
      "outputs": [
        {
          "output_type": "execute_result",
          "data": {
            "text/plain": [
              "False"
            ]
          },
          "metadata": {},
          "execution_count": 26
        }
      ]
    },
    {
      "cell_type": "code",
      "source": [
        "magazine = \"aab\"\n",
        "magazine.count('a')"
      ],
      "metadata": {
        "colab": {
          "base_uri": "https://localhost:8080/"
        },
        "id": "CAJ5e2dwX-Tz",
        "outputId": "8c73ff7d-fbb6-4d06-9193-a1bdb5aeb132"
      },
      "execution_count": null,
      "outputs": [
        {
          "output_type": "execute_result",
          "data": {
            "text/plain": [
              "2"
            ]
          },
          "metadata": {},
          "execution_count": 19
        }
      ]
    },
    {
      "cell_type": "code",
      "source": [
        "class Solution:\n",
        "    def firstUniqChar(self, s):\n",
        "        checked_elememts=[]\n",
        "        for i in range(len(s)):\n",
        "            if s[i] not in checked_elememts:\n",
        "                try:\n",
        "                    if s[i] in s[:i]+s[i+1:]:\n",
        "                        checked_elememts.append(s[i])\n",
        "                    else:\n",
        "                        return i\n",
        "                except:\n",
        "                    if s[i] in s[:i]:\n",
        "                        return -1\n",
        "                    else:\n",
        "                        return i\n",
        "        return -1"
      ],
      "metadata": {
        "id": "09TSiWWoYBI4"
      },
      "execution_count": null,
      "outputs": []
    },
    {
      "cell_type": "code",
      "source": [
        "s = \"aabb\"\n",
        "\n",
        "run().firstUniqChar(s)"
      ],
      "metadata": {
        "colab": {
          "base_uri": "https://localhost:8080/"
        },
        "id": "44tCxoDXZv3X",
        "outputId": "ea638577-b914-4494-a552-51a020500098"
      },
      "execution_count": null,
      "outputs": [
        {
          "output_type": "execute_result",
          "data": {
            "text/plain": [
              "-1"
            ]
          },
          "metadata": {},
          "execution_count": 31
        }
      ]
    },
    {
      "cell_type": "code",
      "source": [
        "class Solution:\n",
        "    def findTheDifference(self, s, t):\n",
        "        for i in range(len(t)):\n",
        "            if t.count(t[i])!=s.count(t[i]):\n",
        "                return t[i]"
      ],
      "metadata": {
        "id": "bSxgN-nrbpRJ"
      },
      "execution_count": null,
      "outputs": []
    },
    {
      "cell_type": "code",
      "source": [
        "s = \"abcd\"\n",
        "t = \"abcde\"\n",
        "\n",
        "run().findTheDifference(s,t)"
      ],
      "metadata": {
        "colab": {
          "base_uri": "https://localhost:8080/",
          "height": 37
        },
        "id": "mMYQFaoVgeT1",
        "outputId": "4f98a1ad-f394-475a-d0a9-f7991ae97e07"
      },
      "execution_count": null,
      "outputs": [
        {
          "output_type": "execute_result",
          "data": {
            "text/plain": [
              "'e'"
            ],
            "application/vnd.google.colaboratory.intrinsic+json": {
              "type": "string"
            }
          },
          "metadata": {},
          "execution_count": 33
        }
      ]
    },
    {
      "cell_type": "code",
      "source": [
        "class Solution:\n",
        "    def isSubsequence(self, s, t):\n",
        "        pos=-1\n",
        "        for i in range(len(s)):\n",
        "            if s[i] in t[pos+1:]:\n",
        "                pos+=t[pos+1:].find(s[i])+1\n",
        "                # print(pos)\n",
        "            else:\n",
        "                return False\n",
        "        return True"
      ],
      "metadata": {
        "id": "MqBZUVwwhRNq"
      },
      "execution_count": null,
      "outputs": []
    },
    {
      "cell_type": "code",
      "source": [
        "s = \"abc\"\n",
        "t = \"ahbgdc\"\n",
        "\n",
        "run().isSubsequence(s,t)"
      ],
      "metadata": {
        "colab": {
          "base_uri": "https://localhost:8080/"
        },
        "id": "NJVibbqph56R",
        "outputId": "42808dc8-3236-46ab-b996-3553f72902d9"
      },
      "execution_count": null,
      "outputs": [
        {
          "output_type": "stream",
          "name": "stdout",
          "text": [
            "0\n",
            "2\n",
            "5\n"
          ]
        },
        {
          "output_type": "execute_result",
          "data": {
            "text/plain": [
              "True"
            ]
          },
          "metadata": {},
          "execution_count": 51
        }
      ]
    },
    {
      "cell_type": "code",
      "source": [
        "s = \"aaaaaa\"\n",
        "t = \"bbaaaa\"\n",
        "\n",
        "run().isSubsequence(s,t)"
      ],
      "metadata": {
        "colab": {
          "base_uri": "https://localhost:8080/"
        },
        "id": "EuQ4T3xHlHWs",
        "outputId": "35b9a403-c179-443c-9abd-f7ad81ce3e2d"
      },
      "execution_count": null,
      "outputs": [
        {
          "output_type": "stream",
          "name": "stdout",
          "text": [
            "2\n",
            "3\n",
            "4\n",
            "5\n"
          ]
        },
        {
          "output_type": "execute_result",
          "data": {
            "text/plain": [
              "False"
            ]
          },
          "metadata": {},
          "execution_count": 52
        }
      ]
    },
    {
      "cell_type": "code",
      "source": [
        "class Solution:\n",
        "    def readBinaryWatch(self, turnedOn):\n",
        "        hr=0\n",
        "        time=[]\n",
        "        return_time=[]\n",
        "        while hr < 12:\n",
        "            if bin(hr)[2:].count('1') <= turnedOn:\n",
        "                time.append([hr,turnedOn-bin(hr)[2:].count('1')])\n",
        "                hr+=1\n",
        "            else:\n",
        "                hr+=1\n",
        "        for i in range(len(time)):\n",
        "            min=0\n",
        "            while min < 60:\n",
        "                if bin(min)[2:].count('1') == time[i][1]:\n",
        "                    if min < 10:\n",
        "                        return_time.append(f'{time[i][0]}:0{min}')\n",
        "                        min+=1\n",
        "                    else:\n",
        "                        return_time.append(f'{time[i][0]}:{min}')\n",
        "                        min+=1\n",
        "                else:\n",
        "                    min+=1\n",
        "        return return_time"
      ],
      "metadata": {
        "id": "nfS74Xn4ljiF"
      },
      "execution_count": null,
      "outputs": []
    },
    {
      "cell_type": "code",
      "source": [
        "turnedOn = 1\n",
        "\n",
        "run().readBinaryWatch(turnedOn)"
      ],
      "metadata": {
        "id": "ctNTp2evrVjR",
        "colab": {
          "base_uri": "https://localhost:8080/"
        },
        "outputId": "8ca0d516-0f7d-42cc-dbd1-498128a6e1b3"
      },
      "execution_count": null,
      "outputs": [
        {
          "output_type": "execute_result",
          "data": {
            "text/plain": [
              "['0:01',\n",
              " '0:02',\n",
              " '0:04',\n",
              " '0:08',\n",
              " '0:16',\n",
              " '0:32',\n",
              " '1:00',\n",
              " '2:00',\n",
              " '4:00',\n",
              " '8:00']"
            ]
          },
          "metadata": {},
          "execution_count": 49
        }
      ]
    },
    {
      "cell_type": "code",
      "source": [
        "class Solution:\n",
        "    def toHex(self, num):\n",
        "        dict_hex={0: '0',\n",
        "        1: '1',\n",
        "        2: '2',\n",
        "        3: '3',\n",
        "        4: '4',\n",
        "        5: '5',\n",
        "        6: '6',\n",
        "        7: '7',\n",
        "        8: '8',\n",
        "        9: '9',\n",
        "        10: 'a',\n",
        "        11: 'b',\n",
        "        12: 'c',\n",
        "        13: 'd',\n",
        "        14: 'e',\n",
        "        15: 'f'}\n",
        "        while\n"
      ],
      "metadata": {
        "id": "q7IiZwNUrfhV"
      },
      "execution_count": null,
      "outputs": []
    },
    {
      "cell_type": "code",
      "source": [
        "num = 26\n",
        "\n",
        "run().toHex(num)"
      ],
      "metadata": {
        "id": "60pQH2StbeMG"
      },
      "execution_count": null,
      "outputs": []
    },
    {
      "cell_type": "code",
      "source": [
        "dict_hex={}\n",
        "for i in range(16):\n",
        "    if i < 10:\n",
        "        dict_hex[i]=str(i)\n",
        "    else:\n",
        "        dict_hex[i]=chr(97-10+i)"
      ],
      "metadata": {
        "id": "NEM2V3iodVse"
      },
      "execution_count": null,
      "outputs": []
    },
    {
      "cell_type": "code",
      "source": [
        "hex(32)[2:]"
      ],
      "metadata": {
        "colab": {
          "base_uri": "https://localhost:8080/",
          "height": 38
        },
        "id": "DoVBCjaRelrV",
        "outputId": "a5a1f48a-0ef3-4e52-aaa6-939701d82185"
      },
      "execution_count": null,
      "outputs": [
        {
          "output_type": "execute_result",
          "data": {
            "text/plain": [
              "'20'"
            ],
            "application/vnd.google.colaboratory.intrinsic+json": {
              "type": "string"
            }
          },
          "metadata": {},
          "execution_count": 68
        }
      ]
    },
    {
      "cell_type": "code",
      "source": [
        "class Solution:\n",
        "    def fizzBuzz(self, n):\n",
        "        list_n=[]\n",
        "        for i in range(0,n):\n",
        "            if (i+1)%3==0 and (i+1)%5==0:\n",
        "                list_n.append(\"FizzBuzz\")\n",
        "            elif (i+1)%3==0:\n",
        "                list_n.append(\"Fizz\")\n",
        "            elif (i+1)%5==0:\n",
        "                list_n.append(\"Buzz\")\n",
        "            else:\n",
        "                list_n.append(f\"{i+1}\")\n",
        "        return list_n"
      ],
      "metadata": {
        "id": "OroRHXWTkSBf"
      },
      "execution_count": null,
      "outputs": []
    },
    {
      "cell_type": "code",
      "source": [
        "n=15\n",
        "\n",
        "run().fizzBuzz(n)"
      ],
      "metadata": {
        "colab": {
          "base_uri": "https://localhost:8080/"
        },
        "id": "J2MCc0FXp-na",
        "outputId": "4c774b87-3862-4927-dcdd-f1d6889d9278"
      },
      "execution_count": null,
      "outputs": [
        {
          "output_type": "execute_result",
          "data": {
            "text/plain": [
              "['1',\n",
              " '2',\n",
              " 'Fizz',\n",
              " '4',\n",
              " 'Buzz',\n",
              " 'Fizz',\n",
              " '7',\n",
              " '8',\n",
              " 'Fizz',\n",
              " 'Buzz',\n",
              " '11',\n",
              " 'Fizz',\n",
              " '13',\n",
              " '14',\n",
              " 'FizzBuzz']"
            ]
          },
          "metadata": {},
          "execution_count": 73
        }
      ]
    },
    {
      "cell_type": "code",
      "source": [
        "class Solution:\n",
        "    def thirdMax(self, nums):\n",
        "        max_nums=max(nums)\n",
        "        for i in range(2):\n",
        "            try:\n",
        "                current_max=max(nums)\n",
        "            except ValueError:\n",
        "                return max_nums\n",
        "            while True:\n",
        "                try:\n",
        "                    nums.remove(current_max)\n",
        "                except ValueError:\n",
        "                    break\n",
        "\n",
        "        try:\n",
        "            return max(nums)\n",
        "        except ValueError:\n",
        "            return max_nums"
      ],
      "metadata": {
        "id": "ivAerxLgobkk"
      },
      "execution_count": null,
      "outputs": []
    },
    {
      "cell_type": "code",
      "source": [
        "nums=[1,1,1]\n",
        "run().thirdMax(nums)"
      ],
      "metadata": {
        "colab": {
          "base_uri": "https://localhost:8080/"
        },
        "id": "HHC8INrLw7tj",
        "outputId": "475ab053-e28d-4510-d9cc-70b4a4a1a0bf"
      },
      "execution_count": null,
      "outputs": [
        {
          "output_type": "execute_result",
          "data": {
            "text/plain": [
              "1"
            ]
          },
          "metadata": {},
          "execution_count": 89
        }
      ]
    },
    {
      "cell_type": "code",
      "source": [
        "class Solution:\n",
        "    def addStrings(self, num1, num2):\n",
        "        n1,n2='',''\n",
        "        if len(num1)>=len(num2):\n",
        "            n1,n2=num1[::-1],num2[::-1]\n",
        "        else:\n",
        "            n2,n1=num1[::-1],num2[::-1]\n",
        "        carry=0\n",
        "        for i in range(len(n2)):\n",
        "            if int(n1[i])+int(n2[i])+carry<10:\n",
        "                try:\n",
        "                    n1=n1[:i]+str(int(n1[i])+int(n2[i])+carry)+n1[i+1:]\n",
        "                except:\n",
        "                    n1=n1[:i]+str(int(n1[i])+int(n2[i])+carry)\n",
        "                carry=0\n",
        "            else:\n",
        "                try:\n",
        "                    n1=n1[:i]+str(int(n1[i])+int(n2[i])+carry-10)+n1[i+1:]\n",
        "                except:\n",
        "                    n1=n1[:i]+str(int(n1[i])+int(n2[i])+carry-10)\n",
        "                carry=1\n",
        "        if carry==1:\n",
        "            if len(n1)==len(n2):\n",
        "                n1=n1+'1'\n",
        "                carry=0\n",
        "            else:\n",
        "                for i in range(len(n1[len(n2):])):\n",
        "                    if int(int(n1[len(n2)+i])+1)<10:\n",
        "                        try:\n",
        "                            n1=n1[:len(n2)+i]+str(int(n1[len(n2)+i])+1)+n1[len(n2)+i+1:]\n",
        "                        except:\n",
        "                            n1=n1[:len(n2)+i]+str(int(n1[len(n2)+i])+1)\n",
        "                        carry=0\n",
        "                        break\n",
        "                    else:\n",
        "                        try:\n",
        "                            n1=n1[:len(n2)+i]+str(int(n1[len(n2)+i])+1-10)+n1[len(n2)+i+1:]\n",
        "                        except:\n",
        "                            n1=n1[:len(n2)+i]+str(int(n1[len(n2)+i])+1-10)\n",
        "                        carry=1\n",
        "        if carry==1:\n",
        "            n1=n1+'1'\n",
        "        return n1[::-1]  #dayum that ended up being to complex ...  i had to correct for a lot of edge cases"
      ],
      "metadata": {
        "id": "S0s9an0LxYNa"
      },
      "execution_count": null,
      "outputs": []
    },
    {
      "cell_type": "code",
      "source": [
        "class Solution:\n",
        "    def addStrings(self, num1, num2):\n",
        "        n1,n2='',''\n",
        "        if len(num1)>=len(num2):\n",
        "            n1,n2=num1[::-1],num2[::-1]\n",
        "        else:\n",
        "            n2,n1=num1[::-1],num2[::-1]\n",
        "        carry,i=0,0\n",
        "        while carry == 1 or i < len(n2):\n",
        "            if i>=len(n2):\n",
        "                if i==len(n1)-1:\n",
        "                    if int(n1[i])+carry<10:\n",
        "                        n1=n1[:i]+str(int(n1[i])+carry)\n",
        "                        carry=0\n",
        "                        i+=1\n",
        "                    else:\n",
        "                        n1=n1[:i]+str(int(n1[i])+carry-10)+'1'\n",
        "                        carry=0\n",
        "                        i+=1\n",
        "                else:\n",
        "                    if int(n1[i])+carry<10:\n",
        "                        n1=n1[:i]+str(int(n1[i])+carry)+n1[i+1:]\n",
        "                        carry=0\n",
        "                        i+=1\n",
        "                    else:\n",
        "                        n1=n1[:i]+str(int(n1[i])+carry-10)+n1[i+1:]\n",
        "                        carry=1\n",
        "                        i+=1\n",
        "            else:\n",
        "                if i==len(n1)-1:\n",
        "                    if int(n1[i])+carry+int(n2[i])<10:\n",
        "                        n1=n1[:i]+str(int(n1[i])+carry+int(n2[i]))\n",
        "                        carry=0\n",
        "                        i+=1\n",
        "                    else:\n",
        "                        n1=n1[:i]+str(int(n1[i])+carry+int(n2[i])-10)+'1'\n",
        "                        carry=0\n",
        "                        i+=1\n",
        "                else:\n",
        "                    if int(n1[i])+carry+int(n2[i])<10:\n",
        "                        n1=n1[:i]+str(int(n1[i])+carry+int(n2[i]))+n1[i+1:]\n",
        "                        carry=0\n",
        "                        i+=1\n",
        "                    else:\n",
        "                        n1=n1[:i]+str(int(n1[i])+carry+int(n2[i])-10)+n1[i+1:]\n",
        "                        carry=1\n",
        "                        i+=1\n",
        "        return n1[::-1] # wow this one ended up being equally complex"
      ],
      "metadata": {
        "id": "kCqgmBHxjIuc"
      },
      "execution_count": null,
      "outputs": []
    },
    {
      "cell_type": "code",
      "source": [
        "num1 = \"456\"\n",
        "num2 = \"77\"\n",
        "run().addStrings(num1,num2)"
      ],
      "metadata": {
        "colab": {
          "base_uri": "https://localhost:8080/",
          "height": 38
        },
        "id": "HxTHV_tSy3LR",
        "outputId": "085301a1-f2e0-41a6-9ce8-2e2c481c098b"
      },
      "execution_count": null,
      "outputs": [
        {
          "output_type": "execute_result",
          "data": {
            "text/plain": [
              "'533'"
            ],
            "application/vnd.google.colaboratory.intrinsic+json": {
              "type": "string"
            }
          },
          "metadata": {},
          "execution_count": 28
        }
      ]
    },
    {
      "cell_type": "code",
      "source": [
        "class Solution:\n",
        "    def countSegments(self, s):\n",
        "        s=s.strip()\n",
        "        if len(s)==0:\n",
        "            return 0\n",
        "        adj=False\n",
        "        count=0\n",
        "        for i in range(len(s)):\n",
        "            if s[i]==' ':\n",
        "                if adj==False:\n",
        "                    count+=1\n",
        "                    adj=True\n",
        "            else:\n",
        "                adj=False\n",
        "        return count+1"
      ],
      "metadata": {
        "id": "pY0BHl3mR0zX"
      },
      "execution_count": null,
      "outputs": []
    },
    {
      "cell_type": "code",
      "source": [
        "s = \", , , ,        a, eaefa\"\n",
        "run().countSegments(s)"
      ],
      "metadata": {
        "colab": {
          "base_uri": "https://localhost:8080/"
        },
        "id": "koIpfdq_R4Il",
        "outputId": "b96aa785-93c1-4b2b-8af8-13eab0de0df1"
      },
      "execution_count": null,
      "outputs": [
        {
          "output_type": "execute_result",
          "data": {
            "text/plain": [
              "6"
            ]
          },
          "metadata": {},
          "execution_count": 38
        }
      ]
    },
    {
      "cell_type": "code",
      "source": [
        "fclass Solution:\n",
        "    def arrangeCoins(self, n):\n",
        "        i=1\n",
        "        while True: # this is taking a lot of time... need to find a better way\n",
        "            if (i*(i+1))/2==n:\n",
        "                return i\n",
        "            elif (i*(i+1))/2<n:\n",
        "                i+=1\n",
        "            else:\n",
        "            return i-1"
      ],
      "metadata": {
        "id": "LHu36uyKp_6z"
      },
      "execution_count": null,
      "outputs": []
    },
    {
      "cell_type": "code",
      "source": [
        "n=7\n",
        "run().arrangeCoins(n)"
      ],
      "metadata": {
        "colab": {
          "base_uri": "https://localhost:8080/"
        },
        "id": "W6U0C17qs6cZ",
        "outputId": "a7af78a1-31a9-4141-b044-d84c5b2e4a44"
      },
      "execution_count": null,
      "outputs": [
        {
          "output_type": "execute_result",
          "data": {
            "text/plain": [
              "3"
            ]
          },
          "metadata": {},
          "execution_count": 57
        }
      ]
    },
    {
      "cell_type": "code",
      "source": [
        "class Solution:\n",
        "    def findDisappearedNumbers(self, nums):\n",
        "        not_in_nums={i+1:i+1 for i in range(len(nums))}\n",
        "        for i in nums:\n",
        "            if i not in not_in_nums:\n",
        "                continue\n",
        "            else:\n",
        "                del not_in_nums[i]\n",
        "        return list(not_in_nums.keys())"
      ],
      "metadata": {
        "id": "HHq-WTxBvYlA"
      },
      "execution_count": null,
      "outputs": []
    },
    {
      "cell_type": "code",
      "source": [
        "nums = [4,3,2,7,8,2,3,1]\n",
        "run().findDisappearedNumbers(nums)"
      ],
      "metadata": {
        "colab": {
          "base_uri": "https://localhost:8080/"
        },
        "id": "5O5Pya320LdG",
        "outputId": "24f9f34f-e055-4c8b-e370-0549021000f6"
      },
      "execution_count": null,
      "outputs": [
        {
          "output_type": "execute_result",
          "data": {
            "text/plain": [
              "[5, 6]"
            ]
          },
          "metadata": {},
          "execution_count": 16
        }
      ]
    },
    {
      "cell_type": "code",
      "source": [
        "class Solution:\n",
        "    def hammingDistance(self, x, y):\n",
        "        x=bin(x)[2:]\n",
        "        y=bin(y)[2:]\n",
        "        ans=0\n",
        "        if len(x)>len(y):\n",
        "            y='0'*(len(x)-len(y))+y\n",
        "        else:\n",
        "            x='0'*(len(y)-len(x))+x\n",
        "        for i in range(len(x)):\n",
        "            if x[i]==y[i]:\n",
        "                continue\n",
        "            else:\n",
        "                ans+=1\n",
        "        return ans"
      ],
      "metadata": {
        "id": "i12oEJo-28sU"
      },
      "execution_count": null,
      "outputs": []
    },
    {
      "cell_type": "code",
      "source": [
        "x=3\n",
        "y=1\n",
        "run().hammingDistance(x,y)"
      ],
      "metadata": {
        "id": "o5aTrj6h6iak",
        "colab": {
          "base_uri": "https://localhost:8080/"
        },
        "outputId": "d0b3e3e0-bb64-4800-ecd0-2b4cad39f371"
      },
      "execution_count": null,
      "outputs": [
        {
          "output_type": "execute_result",
          "data": {
            "text/plain": [
              "1"
            ]
          },
          "metadata": {},
          "execution_count": 5
        }
      ]
    },
    {
      "cell_type": "code",
      "source": [
        "class Solution:\n",
        "    def islandPerimeter(self, grid):\n",
        "        ans=0\n",
        "        grid=[[0]*(len(grid[0])+2)]+[[0]+i+[0] for i in grid]+[[0]*(len(grid[0])+2)]\n",
        "        for i in range(1,len(grid)-1):\n",
        "            for j in range(1,len(grid[i])-1):\n",
        "                if grid[i][j]==1:\n",
        "                    ans+=4-sum([grid[i+1][j],grid[i-1][j],grid[i][j+1],grid[i][j-1]])\n",
        "                else:\n",
        "                    continue\n",
        "        return ans"
      ],
      "metadata": {
        "id": "c2vSvAxBxMtp"
      },
      "execution_count": null,
      "outputs": []
    },
    {
      "cell_type": "code",
      "source": [
        "grid = [[0,1,0,0],[1,1,1,0],[0,1,0,0],[1,1,0,0]]\n",
        "run().islandPerimeter(grid)"
      ],
      "metadata": {
        "colab": {
          "base_uri": "https://localhost:8080/"
        },
        "id": "GunGMHBIyprj",
        "outputId": "a1a6d5eb-1f58-466d-d45d-3dbd5fca8a61"
      },
      "execution_count": null,
      "outputs": [
        {
          "output_type": "execute_result",
          "data": {
            "text/plain": [
              "16"
            ]
          },
          "metadata": {},
          "execution_count": 14
        }
      ]
    },
    {
      "cell_type": "code",
      "source": [
        "class Solution:\n",
        "    def repeatedSubstringPattern(self, s):\n",
        "        ss=''+s[0]\n",
        "        while len(ss)<len(s)//2:\n",
        "            i=0\n",
        "            while i < len(s):\n",
        "                if s[len(ss)*i:len(ss)*(i+1)]\n",
        "\n",
        "\n",
        "\n",
        "        for i in range(len(ss)):\n",
        "            j=0\n",
        "            while j<len(s):\n",
        "                if s[j]==ss[i]:\n",
        "                    j+=len(ss)\n",
        "                else:\n",
        "                    ss=s[:len(ss)+1]"
      ],
      "metadata": {
        "id": "UM_u0pYZ1wcW"
      },
      "execution_count": null,
      "outputs": []
    },
    {
      "cell_type": "code",
      "source": [
        "s='abcdefghijk'\n",
        "run().repeatedSubstringPattern(s)"
      ],
      "metadata": {
        "colab": {
          "base_uri": "https://localhost:8080/"
        },
        "id": "1Qy-t_gf2vwP",
        "outputId": "50d94771-fd3f-4dfa-80a3-2581911886b7"
      },
      "execution_count": null,
      "outputs": [
        {
          "output_type": "execute_result",
          "data": {
            "text/plain": [
              "True"
            ]
          },
          "metadata": {},
          "execution_count": 31
        }
      ]
    },
    {
      "cell_type": "code",
      "source": [
        "from binascii import Incomplete\n",
        "class Solution:\n",
        "    def canPartition(self, nums):\n",
        "        if sum(nums)%2 != 0:\n",
        "            return False\n",
        "        half_sum=sum(nums)/2\n",
        "        if half_sum in nums:\n",
        "            return True\n",
        "        nums=sorted(nums)\n",
        "        if num[-1]>half_sum:\n",
        "            return False\n",
        "        for i in range(len(nums)-1,-1,-1):\n",
        "            if sum(nums[i:])==half_sum:\n",
        "                return True\n",
        "            elif sum(nums[i:])<half_sum\n",
        "                continue\n",
        "            else:\n",
        "                break\n",
        "        pos=i+1\n",
        "        list_1=nums[:pos]\n",
        "        list_2=nums[pos:]\n",
        "        for i in range()\n",
        "\n",
        "\n",
        "        diff=half_sum-sum(nums[pos:])\n",
        "        while True:\n",
        "            if diff in nums[:pos]:\n",
        "                return True\n",
        "            else:\n",
        "                if nums[0]<diff:\n",
        "                    diff-=2*nums[0]\n",
        "# Incomplete\n"
      ],
      "metadata": {
        "id": "0HWn-VKz6DyU"
      },
      "execution_count": null,
      "outputs": []
    },
    {
      "cell_type": "code",
      "source": [
        "nums=[1,5,11,5]\n",
        "run().canPartition(nums)"
      ],
      "metadata": {
        "id": "1SHVBZ68kQ2G"
      },
      "execution_count": null,
      "outputs": []
    },
    {
      "cell_type": "code",
      "source": [
        "nums=[1,3,2]\n",
        "nums=sorted(nums)\n",
        "nums.remove(3)\n",
        "nums"
      ],
      "metadata": {
        "colab": {
          "base_uri": "https://localhost:8080/"
        },
        "id": "WnygQyBS03KU",
        "outputId": "fa9e8a46-6ed0-4033-ca2e-d29a0cc573d7"
      },
      "execution_count": null,
      "outputs": [
        {
          "output_type": "execute_result",
          "data": {
            "text/plain": [
              "[1, 2]"
            ]
          },
          "metadata": {},
          "execution_count": 20
        }
      ]
    },
    {
      "cell_type": "code",
      "source": [
        "class Solution:\n",
        "    def maximumTripletValue(self, nums):\n",
        "        max = -1\n",
        "        ii=0\n",
        "        jj=ii+1\n",
        "        for i in nums[:-2]:\n",
        "            for j in nums[ii+1:-1]:\n",
        "                for k in nums[jj+1:]:\n",
        "                    if (i-j)*k > max:\n",
        "                        max=(i-j)*k\n",
        "                jj+=1\n",
        "            ii+=1\n",
        "            jj=ii+1\n",
        "        if max<0:\n",
        "            return 0\n",
        "        else:\n",
        "            return max"
      ],
      "metadata": {
        "id": "udE5Dx7Tk7g7"
      },
      "execution_count": null,
      "outputs": []
    },
    {
      "cell_type": "code",
      "source": [
        "nums = [1,2,3]\n",
        "run().maximumTripletValue(nums)"
      ],
      "metadata": {
        "id": "LGP8OLhT60Yp",
        "colab": {
          "base_uri": "https://localhost:8080/"
        },
        "outputId": "b55f3207-76ef-45d5-b0f2-0e46ba4b32f0"
      },
      "execution_count": null,
      "outputs": [
        {
          "output_type": "execute_result",
          "data": {
            "text/plain": [
              "0"
            ]
          },
          "metadata": {},
          "execution_count": 21
        }
      ]
    },
    {
      "cell_type": "code",
      "source": [
        "nums=[1,2,3,4,5,3,2,1]\n",
        "dict_nums={i:nums[i] for i in range(len(nums))}\n",
        "dict_nums=sorted(dict_nums,key=lambda x : dict_nums[x])"
      ],
      "metadata": {
        "id": "lsVyKRbK7hFc"
      },
      "execution_count": null,
      "outputs": []
    },
    {
      "cell_type": "code",
      "source": [
        "dict_nums"
      ],
      "metadata": {
        "colab": {
          "base_uri": "https://localhost:8080/"
        },
        "id": "sgZQdCoy7jmm",
        "outputId": "9f896197-aec3-4ef4-e09f-d0b81582cf5a"
      },
      "execution_count": null,
      "outputs": [
        {
          "output_type": "execute_result",
          "data": {
            "text/plain": [
              "[0, 7, 1, 6, 2, 5, 3, 4]"
            ]
          },
          "metadata": {},
          "execution_count": 3
        }
      ]
    },
    {
      "cell_type": "code",
      "source": [
        "for i in dict_nums:\n",
        "    print(nums[i])"
      ],
      "metadata": {
        "colab": {
          "base_uri": "https://localhost:8080/"
        },
        "id": "3IISBNbo7oiB",
        "outputId": "92f2a51b-fd7c-4d09-fa36-2efb34a8a47a"
      },
      "execution_count": null,
      "outputs": [
        {
          "output_type": "stream",
          "name": "stdout",
          "text": [
            "1\n",
            "1\n",
            "2\n",
            "2\n",
            "3\n",
            "3\n",
            "4\n",
            "5\n"
          ]
        }
      ]
    },
    {
      "cell_type": "code",
      "source": [
        "class Solution:\n",
        "    def divideArray(self, nums):\n",
        "        dict_nums={}\n",
        "        for i in nums:\n",
        "            if i in dict_nums:\n",
        "                dict_nums[i]+=1\n",
        "            else:\n",
        "                dict_nums[i]=1\n",
        "        for i in dict_nums.keys():\n",
        "            if dict_nums[i]%2!=0:\n",
        "                return False\n",
        "        return True"
      ],
      "metadata": {
        "id": "xWuXXezO8nGZ"
      },
      "execution_count": null,
      "outputs": []
    },
    {
      "cell_type": "code",
      "source": [
        "nums=[3,2,3,2,2,2,2,1]\n",
        "run().divideArray(nums)"
      ],
      "metadata": {
        "colab": {
          "base_uri": "https://localhost:8080/"
        },
        "id": "bWHkGcjq9wd_",
        "outputId": "e706d502-7c6f-49b4-f0c1-764c59ace63d"
      },
      "execution_count": null,
      "outputs": [
        {
          "output_type": "execute_result",
          "data": {
            "text/plain": [
              "False"
            ]
          },
          "metadata": {},
          "execution_count": 4
        }
      ]
    },
    {
      "cell_type": "code",
      "source": [
        "class Solution:\n",
        "    def maximumCount(self, nums):\n",
        "        if nums[0]>0 or nums[-1]<0: # binary search\n",
        "            return len(nums)\n",
        "        elif nums[0]==0 and nums[-1]==0:\n",
        "            return 0\n",
        "        low,high=0,len(nums)-1\n",
        "        mid=(low+high)//2\n",
        "        while low<high and low!=mid:\n",
        "            if nums[mid]<0:\n",
        "                low=mid\n",
        "            elif nums[mid]>=0:\n",
        "                high=mid\n",
        "            mid=(low+high)//2\n",
        "        neg=len(nums[:mid+1])\n",
        "        if neg>=len(nums[mid+1:]):\n",
        "            return neg\n",
        "        else:\n",
        "            if nums[-1]==0:\n",
        "                return neg\n",
        "            else:\n",
        "                low,high=mid+1,len(nums)-1\n",
        "                mid_2=(low+high)//2\n",
        "                while low<high and low!=mid_2:\n",
        "                    if nums[mid_2]==0:\n",
        "                        low=mid_2\n",
        "                    elif nums[mid_2]>0:\n",
        "                        high=mid_2\n",
        "                    mid_2=(low+high)//2\n",
        "                if nums[mid_2]==0:\n",
        "                    pos=len(nums[mid_2+1:])\n",
        "                else:\n",
        "                    pos=len(nums[mid_2:])\n",
        "                if pos>=neg:\n",
        "                    return pos\n",
        "                else:\n",
        "                    return neg"
      ],
      "metadata": {
        "id": "6ySnHh55-6ml"
      },
      "execution_count": null,
      "outputs": []
    },
    {
      "cell_type": "code",
      "source": [
        "nums=[-2,-1,-1,1,2,3]\n",
        "run().maximumCount(nums)"
      ],
      "metadata": {
        "colab": {
          "base_uri": "https://localhost:8080/"
        },
        "id": "7N0NicUbA2rr",
        "outputId": "8941787a-077c-4c91-9d53-d9597d02e259"
      },
      "execution_count": null,
      "outputs": [
        {
          "output_type": "execute_result",
          "data": {
            "text/plain": [
              "3"
            ]
          },
          "metadata": {},
          "execution_count": 37
        }
      ]
    },
    {
      "cell_type": "code",
      "source": [
        "nums=[-3,-2,-1,0,0,1,2]\n",
        "run().maximumCount(nums)"
      ],
      "metadata": {
        "colab": {
          "base_uri": "https://localhost:8080/"
        },
        "id": "hRAOxnGuPB-G",
        "outputId": "f49ca602-68bc-4973-afc7-c30619ea0fe7"
      },
      "execution_count": null,
      "outputs": [
        {
          "output_type": "execute_result",
          "data": {
            "text/plain": [
              "3"
            ]
          },
          "metadata": {},
          "execution_count": 38
        }
      ]
    },
    {
      "cell_type": "code",
      "source": [
        "nums=[5,20,66,1314]\n",
        "run().maximumCount(nums)"
      ],
      "metadata": {
        "colab": {
          "base_uri": "https://localhost:8080/"
        },
        "id": "Caz9Bp95PDVO",
        "outputId": "9575962d-1456-4e98-b359-aabc53bf7731"
      },
      "execution_count": null,
      "outputs": [
        {
          "output_type": "execute_result",
          "data": {
            "text/plain": [
              "4"
            ]
          },
          "metadata": {},
          "execution_count": 39
        }
      ]
    },
    {
      "cell_type": "code",
      "source": [
        "nums=[-1563,-236,-114,-55,427,447,687,752,1021,1636]\n",
        "run().maximumCount(nums)"
      ],
      "metadata": {
        "colab": {
          "base_uri": "https://localhost:8080/"
        },
        "id": "l04EF0tjXqa6",
        "outputId": "d9b8b6cc-45e6-4467-a62d-a822413e1645"
      },
      "execution_count": null,
      "outputs": [
        {
          "output_type": "execute_result",
          "data": {
            "text/plain": [
              "6"
            ]
          },
          "metadata": {},
          "execution_count": 40
        }
      ]
    },
    {
      "cell_type": "code",
      "source": [
        "class Solution:\n",
        "    def findMissingAndRepeatedValues(self, grid):\n",
        "        dict_nums={i:1 for i in range(1,len(grid)**2+1)}\n",
        "        for i in grid:\n",
        "            for j in i:\n",
        "                if j in dict_nums:\n",
        "                    del dict_nums[j]\n",
        "                else:\n",
        "                    dict_nums[j]=-1\n",
        "        a,b=0,0\n",
        "        for i in dict_nums.keys():\n",
        "            if dict_nums[i]==1:\n",
        "                b=i\n",
        "            elif dict_nums[i]==-1:\n",
        "                a=i\n",
        "        return [a,b]"
      ],
      "metadata": {
        "id": "s5HsH0Y7anOY"
      },
      "execution_count": null,
      "outputs": []
    },
    {
      "cell_type": "code",
      "source": [
        "grid = [[9,1,7],[8,9,2],[3,4,6]]\n",
        "run().findMissingAndRepeatedValues(grid)"
      ],
      "metadata": {
        "colab": {
          "base_uri": "https://localhost:8080/"
        },
        "id": "Omi_o1LiaoQe",
        "outputId": "18159538-d0ea-4320-e2f1-62ebaeebb378"
      },
      "execution_count": null,
      "outputs": [
        {
          "output_type": "stream",
          "name": "stdout",
          "text": [
            "{5: 1, 9: -1}\n"
          ]
        },
        {
          "output_type": "execute_result",
          "data": {
            "text/plain": [
              "[9, 5]"
            ]
          },
          "metadata": {},
          "execution_count": 66
        }
      ]
    },
    {
      "cell_type": "code",
      "source": [
        "class Solution:\n",
        "    def getLongestSubsequence(self, words, groups):\n",
        "        ans=[0]\n",
        "        for i in range(1,len(groups)):\n",
        "            if groups[i]!=groups[i-1]:\n",
        "                ans.append(i)\n",
        "        return [words[i] for i in range(len(words)) if i in ans]"
      ],
      "metadata": {
        "id": "9j4A9T7HcPvi"
      },
      "execution_count": null,
      "outputs": []
    },
    {
      "cell_type": "code",
      "source": [
        "words = [\"a\",\"b\",\"c\",\"d\"]\n",
        "groups = [1,0,1,1]\n",
        "\n",
        "run().getLongestSubsequence(words, groups)"
      ],
      "metadata": {
        "colab": {
          "base_uri": "https://localhost:8080/"
        },
        "id": "vGMppBRag3PW",
        "outputId": "50a5c286-adc6-484c-f38b-c3c93ea17c49"
      },
      "execution_count": null,
      "outputs": [
        {
          "output_type": "execute_result",
          "data": {
            "text/plain": [
              "['a', 'b', 'c']"
            ]
          },
          "metadata": {},
          "execution_count": 68
        }
      ]
    },
    {
      "cell_type": "code",
      "source": [
        "class Solution:\n",
        "    def mergeArrays(self, nums1, nums2):\n",
        "        dict_ids={i[0]:i[1] for i in nums1}\n",
        "        for i in nums2:\n",
        "            if i[0] in dict_ids:\n",
        "                dict_ids[i[0]]+=i[1]\n",
        "            else:\n",
        "                dict_ids[i[0]]=i[1]\n",
        "        dict_ids=sorted(dict_ids.items(),key=lambda x:x[0])\n",
        "        return list(dict_ids)"
      ],
      "metadata": {
        "id": "HXwFsJsKh5fU"
      },
      "execution_count": null,
      "outputs": []
    },
    {
      "cell_type": "code",
      "source": [
        "nums1 = [[1,2],[2,3],[4,5]]\n",
        "nums2 = [[1,4],[3,2],[4,1]]\n",
        "\n",
        "run().mergeArrays(nums1,nums2)"
      ],
      "metadata": {
        "id": "PEtnggJu3Gzy"
      },
      "execution_count": null,
      "outputs": []
    },
    {
      "cell_type": "code",
      "source": [
        "dict1={1:2,4:2,2:3}\n",
        "dict2=sorted(dict1.items(),key=lambda x:x[0])\n",
        "dict2"
      ],
      "metadata": {
        "colab": {
          "base_uri": "https://localhost:8080/"
        },
        "id": "ob4NLFpC9DLV",
        "outputId": "c21b5326-9e2f-4c6e-9a07-f81debb11c09"
      },
      "execution_count": null,
      "outputs": [
        {
          "output_type": "execute_result",
          "data": {
            "text/plain": [
              "[(1, 2), (2, 3), (4, 2)]"
            ]
          },
          "metadata": {},
          "execution_count": 7
        }
      ]
    },
    {
      "cell_type": "code",
      "source": [
        "class Solution:\n",
        "    def getWordsInLongestSubsequence(self, words, groups):\n",
        "        max=[0,[0]]\n",
        "        for i in range(len(words)):\n",
        "\n",
        "            # if len(words[i:])<max[0]:\n",
        "            #     break\n",
        "\n",
        "            temp=[i]\n",
        "            for j in range(temp[-1],len(words)):\n",
        "                if len(words[temp[-1]])==len(words[j]):\n",
        "                    if groups[temp[-1]]!=groups[j]:\n",
        "                        hamming_distance=0\n",
        "                        for k in range(len(words[temp[-1]])):\n",
        "                            if words[temp[-1]][k]!=words[j][k]:\n",
        "                                hamming_distance+=1\n",
        "                                if hamming_distance>1:\n",
        "                                    break\n",
        "                        if hamming_distance==1:\n",
        "                            temp.append(j)\n",
        "            print(temp)\n",
        "            if len(temp)>max[0]:\n",
        "                max[0]=len(temp)\n",
        "                max[1]=temp\n",
        "        return [words[l] for l in max[1]]"
      ],
      "metadata": {
        "id": "PPXmH3Wh9J_m"
      },
      "execution_count": null,
      "outputs": []
    },
    {
      "cell_type": "code",
      "source": [
        "words = [\"bad\",\"dc\",\"bc\",\"ccd\",\"dd\",\"da\",\"cad\",\"dba\",\"aba\"]\n",
        "groups = [9,7,1,2,6,8,3,7,2]\n",
        "\n",
        "run().getWordsInLongestSubsequence(words,groups)"
      ],
      "metadata": {
        "colab": {
          "base_uri": "https://localhost:8080/"
        },
        "id": "MKKaB01sCYr8",
        "outputId": "4c91db90-2aa7-4ebc-9cb4-8666f69047d2"
      },
      "execution_count": null,
      "outputs": [
        {
          "output_type": "stream",
          "name": "stdout",
          "text": [
            "[0, 6]\n",
            "[1, 2]\n",
            "[2]\n",
            "[3, 6]\n",
            "[4, 5]\n",
            "[5]\n",
            "[6]\n",
            "[7, 8]\n",
            "[8]\n"
          ]
        },
        {
          "output_type": "execute_result",
          "data": {
            "text/plain": [
              "['bad', 'cad']"
            ]
          },
          "metadata": {},
          "execution_count": 55
        }
      ]
    },
    {
      "cell_type": "code",
      "source": [
        "class Solution:\n",
        "    def applyOperations(self, nums):\n",
        "        len_nums=len(nums)\n",
        "        for i in range(len(nums)-1):\n",
        "            if nums[i]==nums[i+1]:\n",
        "                nums[i]=nums[i]*2\n",
        "                nums[i+1]=0\n",
        "        ans=[j for j in nums if j !=0]\n",
        "        ans=ans+[0]*(len_nums-len(ans))\n",
        "        return ans"
      ],
      "metadata": {
        "id": "z1vM3WvUHT2O"
      },
      "execution_count": null,
      "outputs": []
    },
    {
      "cell_type": "code",
      "source": [
        "nums=[1,2,2,1,1,0]\n",
        "run().applyOperations(nums)"
      ],
      "metadata": {
        "colab": {
          "base_uri": "https://localhost:8080/"
        },
        "id": "rUDIMDjWMSEB",
        "outputId": "fb5ba07d-da68-4c71-94ea-33e729803a46"
      },
      "execution_count": null,
      "outputs": [
        {
          "output_type": "execute_result",
          "data": {
            "text/plain": [
              "[1, 4, 2, 0, 0, 0]"
            ]
          },
          "metadata": {},
          "execution_count": 41
        }
      ]
    },
    {
      "cell_type": "code",
      "source": [
        "class Solution:  # this one is slower than the final one down below probably because of the use of ord and chr funcs\n",
        "    def clearDigits(self, s):\n",
        "        digits=[]\n",
        "        while True:\n",
        "            digit_found=False\n",
        "            for i in range(len(s)):\n",
        "                if i==0:\n",
        "                    continue\n",
        "                if ord(s[i])<=ord(\"9\") and ord(s[i])>=ord(\"0\"):\n",
        "                    digit_found=True\n",
        "                    break\n",
        "            if digit_found==True:\n",
        "                j=1\n",
        "                while j<=i and len(s)>0:\n",
        "                    try:\n",
        "                        if ord(s[i-j])<=ord(\"9\") and ord(s[i-j])>=ord(\"0\"):\n",
        "                            j+=1\n",
        "                        else:\n",
        "                            # print(i,j)\n",
        "                            s=s[:i-j]+s[i-j+1:i]+s[i+1:]\n",
        "                            # print(s)\n",
        "                            break\n",
        "                    except IndexError:\n",
        "                        break\n",
        "            else:\n",
        "                break\n",
        "        return s"
      ],
      "metadata": {
        "id": "QGwSKzbRKr4M"
      },
      "execution_count": null,
      "outputs": []
    },
    {
      "cell_type": "code",
      "source": [
        "s='hg65'\n",
        "run().clearDigits(s)"
      ],
      "metadata": {
        "colab": {
          "base_uri": "https://localhost:8080/",
          "height": 38
        },
        "id": "HVym-uM6BN3q",
        "outputId": "12c52864-7e95-4112-d68c-f8df2fa3882d"
      },
      "execution_count": null,
      "outputs": [
        {
          "output_type": "execute_result",
          "data": {
            "text/plain": [
              "''"
            ],
            "application/vnd.google.colaboratory.intrinsic+json": {
              "type": "string"
            }
          },
          "metadata": {},
          "execution_count": 52
        }
      ]
    },
    {
      "cell_type": "code",
      "source": [
        "# yup this one's faster\n",
        "class Solution:\n",
        "    def clearDigits(self, s):\n",
        "        digits=['1','2','3','4','5','6','7','8','9','0']\n",
        "        while True:\n",
        "            digit_found=False\n",
        "            for i in range(len(s)):\n",
        "                if i==0:\n",
        "                    continue\n",
        "                elif s[i] in digits:\n",
        "                    j=i-1\n",
        "                    while j>=0:\n",
        "                        if s[j] in digits:\n",
        "                            j-=1\n",
        "                        else:\n",
        "                            digit_found=True\n",
        "                            break\n",
        "                if digit_found==True:\n",
        "                    break\n",
        "            if digit_found==True:\n",
        "                s=s[:j]+s[j+1:i]+s[i+1:]\n",
        "            else:\n",
        "                break\n",
        "        return s\n"
      ],
      "metadata": {
        "id": "3e34nUkKB5pK"
      },
      "execution_count": null,
      "outputs": []
    },
    {
      "cell_type": "code",
      "source": [
        "s='hg65'\n",
        "run().clearDigits(s)"
      ],
      "metadata": {
        "colab": {
          "base_uri": "https://localhost:8080/",
          "height": 38
        },
        "id": "rOxp0x7qKuic",
        "outputId": "7374f0bf-7ebe-482d-f433-ddb6f14211f1"
      },
      "execution_count": null,
      "outputs": [
        {
          "output_type": "execute_result",
          "data": {
            "text/plain": [
              "''"
            ],
            "application/vnd.google.colaboratory.intrinsic+json": {
              "type": "string"
            }
          },
          "metadata": {},
          "execution_count": 53
        }
      ]
    },
    {
      "cell_type": "code",
      "source": [
        "class Solution:\n",
        "    def sortColors(self, nums):\n",
        "        i=0\n",
        "        swap=False\n",
        "        while True:\n",
        "            if i==len(nums)-1:\n",
        "                i=0\n",
        "                if swap==True:\n",
        "                    swap=False\n",
        "                else:\n",
        "                    break\n",
        "            else:\n",
        "                if nums[i]>nums[i+1]:\n",
        "                    print(nums)\n",
        "                    nums[i],nums[i+1]=nums[i+1],nums[i]\n",
        "                    print(nums)\n",
        "                    swap=True\n",
        "                    i+=1\n",
        "                else:\n",
        "                    i+=1"
      ],
      "metadata": {
        "id": "MNfaU0n6Lixv"
      },
      "execution_count": null,
      "outputs": []
    },
    {
      "cell_type": "code",
      "source": [
        "nums=[2,0,2,1,1,0]\n",
        "\n",
        "run().sortColors(nums)\n",
        "nums"
      ],
      "metadata": {
        "colab": {
          "base_uri": "https://localhost:8080/"
        },
        "id": "Vga-GsZiSi9f",
        "outputId": "90862e03-21d6-4d82-db56-9e2f1889af04"
      },
      "execution_count": null,
      "outputs": [
        {
          "output_type": "stream",
          "name": "stdout",
          "text": [
            "[2, 0, 2, 1, 1, 0]\n",
            "[0, 2, 2, 1, 1, 0]\n",
            "[0, 2, 2, 1, 1, 0]\n",
            "[0, 2, 1, 2, 1, 0]\n",
            "[0, 2, 1, 2, 1, 0]\n",
            "[0, 2, 1, 1, 2, 0]\n",
            "[0, 2, 1, 1, 2, 0]\n",
            "[0, 2, 1, 1, 0, 2]\n",
            "[0, 2, 1, 1, 0, 2]\n",
            "[0, 1, 2, 1, 0, 2]\n",
            "[0, 1, 2, 1, 0, 2]\n",
            "[0, 1, 1, 2, 0, 2]\n",
            "[0, 1, 1, 2, 0, 2]\n",
            "[0, 1, 1, 0, 2, 2]\n",
            "[0, 1, 1, 0, 2, 2]\n",
            "[0, 1, 0, 1, 2, 2]\n",
            "[0, 1, 0, 1, 2, 2]\n",
            "[0, 0, 1, 1, 2, 2]\n"
          ]
        },
        {
          "output_type": "execute_result",
          "data": {
            "text/plain": [
              "[0, 0, 1, 1, 2, 2]"
            ]
          },
          "metadata": {},
          "execution_count": 74
        }
      ]
    },
    {
      "cell_type": "code",
      "source": [
        "class Solution:\n",
        "    def areAlmostEqual(self, s1, s2):\n",
        "        indices=[]\n",
        "        count=0\n",
        "        for i in range(len(s1)):\n",
        "            if s1[i]!=s2[i]:\n",
        "                indices.append(i)\n",
        "                count+=1\n",
        "                if count>2:\n",
        "                    return False\n",
        "        if count==0:\n",
        "            return True\n",
        "        elif count==1:\n",
        "            return False\n",
        "        elif s1[indices[0]]==s2[indices[1]] and s2[indices[0]]==s1[indices[1]]:\n",
        "            return True\n",
        "        else:\n",
        "            return False"
      ],
      "metadata": {
        "id": "oB7vM9q3TK5D"
      },
      "execution_count": null,
      "outputs": []
    },
    {
      "cell_type": "code",
      "source": [
        "s1 = \"bank\"\n",
        "s2 = \"kanb\"\n",
        "\n",
        "run().areAlmostEqual(s1,s2)"
      ],
      "metadata": {
        "colab": {
          "base_uri": "https://localhost:8080/"
        },
        "id": "n79djxgHZWlw",
        "outputId": "4b7e7876-dfd5-4072-83e9-4de89a976480"
      },
      "execution_count": null,
      "outputs": [
        {
          "output_type": "execute_result",
          "data": {
            "text/plain": [
              "True"
            ]
          },
          "metadata": {},
          "execution_count": 84
        }
      ]
    },
    {
      "cell_type": "code",
      "source": [
        "class Solution:\n",
        "    def maxAscendingSum(self, nums):\n",
        "        max=0\n",
        "        temp=0\n",
        "        for i in range(len(nums)):\n",
        "            if i == 0:\n",
        "                temp = nums[i]\n",
        "                if temp>max:\n",
        "                    max=temp\n",
        "            elif nums[i]>nums[i-1]:\n",
        "                temp+=nums[i]\n",
        "                if temp>max:\n",
        "                    max=temp\n",
        "            else:\n",
        "                temp = nums[i]\n",
        "                if temp>max:\n",
        "                    max=temp\n",
        "        return max"
      ],
      "metadata": {
        "id": "NSKo5acZabVb"
      },
      "execution_count": null,
      "outputs": []
    },
    {
      "cell_type": "code",
      "source": [
        "nums = [10,20,30,5,10,50]\n",
        "\n",
        "run().maxAscendingSum(nums)"
      ],
      "metadata": {
        "colab": {
          "base_uri": "https://localhost:8080/"
        },
        "id": "qWBbd5bjgRcC",
        "outputId": "b3667b15-2e96-4379-f7fa-f500f6e56508"
      },
      "execution_count": null,
      "outputs": [
        {
          "output_type": "execute_result",
          "data": {
            "text/plain": [
              "65"
            ]
          },
          "metadata": {},
          "execution_count": 90
        }
      ]
    },
    {
      "cell_type": "code",
      "source": [
        "class Solution:\n",
        "    def triangleType(self, nums):\n",
        "        if nums[0]+nums[1]<=nums[2] or nums[1]+nums[2]<=nums[0] or nums[0]+nums[2]<=nums[1]:\n",
        "            return 'none'\n",
        "        elif nums[0]==nums[1] and nums[1]==nums[2]:\n",
        "            return 'equilateral'\n",
        "        elif nums[0]==nums[1] or nums[1]==nums[2] or nums[0]==nums[2]:\n",
        "            return 'isosceles'\n",
        "        else:\n",
        "            return 'scalene'"
      ],
      "metadata": {
        "id": "Bak4WUjBhNL6"
      },
      "execution_count": 5,
      "outputs": []
    },
    {
      "cell_type": "code",
      "source": [
        "nums=[3,7,3]\n",
        "\n",
        "run().triangleType(nums)"
      ],
      "metadata": {
        "colab": {
          "base_uri": "https://localhost:8080/",
          "height": 38
        },
        "id": "X-8E29ZUlQfH",
        "outputId": "37ef531b-ec9c-438d-93cc-2c04dd5b7cb1"
      },
      "execution_count": 7,
      "outputs": [
        {
          "output_type": "execute_result",
          "data": {
            "text/plain": [
              "'none'"
            ],
            "application/vnd.google.colaboratory.intrinsic+json": {
              "type": "string"
            }
          },
          "metadata": {},
          "execution_count": 7
        }
      ]
    },
    {
      "cell_type": "code",
      "source": [
        "class Solution:\n",
        "    def longestMonotonicSubarray(self, nums):\n",
        "        max=1\n",
        "        inc=-1\n",
        "        temp=1\n",
        "        for i in range(1,len(nums)):\n",
        "            if nums[i-1]>nums[i] and inc==0:\n",
        "                temp+=1\n",
        "            elif nums[i-1]>nums[i] and inc!=0:\n",
        "                inc=0\n",
        "                temp=2\n",
        "            elif nums[i-1]<nums[i] and inc!=1:\n",
        "                inc=1\n",
        "                temp=2\n",
        "            elif nums[i-1]<nums[i] and inc==1:\n",
        "                temp+=1\n",
        "            else:\n",
        "                temp=1\n",
        "                inc=-1\n",
        "            if temp>max:\n",
        "                max=temp\n",
        "        return max\n",
        ""
      ],
      "metadata": {
        "id": "sR7g1If2mUwy"
      },
      "execution_count": 8,
      "outputs": []
    },
    {
      "cell_type": "code",
      "source": [
        "nums = [3,2,1]\n",
        "\n",
        "run().longestMonotonicSubarray(nums)"
      ],
      "metadata": {
        "colab": {
          "base_uri": "https://localhost:8080/"
        },
        "id": "KBuv7VVQodRs",
        "outputId": "2a008126-a824-4e70-cfa4-d3013ed684aa"
      },
      "execution_count": 11,
      "outputs": [
        {
          "output_type": "execute_result",
          "data": {
            "text/plain": [
              "3"
            ]
          },
          "metadata": {},
          "execution_count": 11
        }
      ]
    },
    {
      "cell_type": "code",
      "source": [
        "class Solution:\n",
        "    def check(self, nums):\n",
        "        count=0\n",
        "        for i in range(1,len(nums)):\n",
        "            if nums[i]<nums[i-1]:\n",
        "                count+=1\n",
        "                if count>1:\n",
        "                    return False\n",
        "        if count==1 and nums[0]<nums[-1]:\n",
        "            return False\n",
        "        return True"
      ],
      "metadata": {
        "id": "mePBwzkltltZ"
      },
      "execution_count": 14,
      "outputs": []
    },
    {
      "cell_type": "code",
      "source": [
        "nums=[3,4,5,1,2]\n",
        "\n",
        "run().check(nums)"
      ],
      "metadata": {
        "colab": {
          "base_uri": "https://localhost:8080/"
        },
        "id": "12UyHq5UvANh",
        "outputId": "cfe699f2-d1ae-4d9a-bad9-fe5766e4f973"
      },
      "execution_count": 19,
      "outputs": [
        {
          "output_type": "execute_result",
          "data": {
            "text/plain": [
              "True"
            ]
          },
          "metadata": {},
          "execution_count": 19
        }
      ]
    },
    {
      "cell_type": "code",
      "source": [
        "class Solution:\n",
        "    def prefixCount(self, words, pref):\n",
        "        count=0\n",
        "        for i in range(len(words)):\n",
        "            if words[i][:len(pref)]==pref:\n",
        "                count+=1\n",
        "        return count"
      ],
      "metadata": {
        "id": "FQepi7tRvs5D"
      },
      "execution_count": 20,
      "outputs": []
    },
    {
      "cell_type": "code",
      "source": [
        "words = [\"pay\",\"attention\",\"practice\",\"attend\"]\n",
        "pref = \"at\"\n",
        "\n",
        "run().prefixCount(words,pref)"
      ],
      "metadata": {
        "colab": {
          "base_uri": "https://localhost:8080/"
        },
        "id": "kox8inRxwuz_",
        "outputId": "341a6c11-3148-42c8-e4ba-010ce5b4f495"
      },
      "execution_count": 21,
      "outputs": [
        {
          "output_type": "execute_result",
          "data": {
            "text/plain": [
              "2"
            ]
          },
          "metadata": {},
          "execution_count": 21
        }
      ]
    },
    {
      "cell_type": "code",
      "source": [],
      "metadata": {
        "id": "jR2h8L3TxVjc"
      },
      "execution_count": null,
      "outputs": []
    }
  ],
  "metadata": {
    "colab": {
      "provenance": [],
      "authorship_tag": "ABX9TyMzfBnjnjB83eN9BdqsGKBx",
      "include_colab_link": true
    },
    "kernelspec": {
      "display_name": "Python 3",
      "name": "python3"
    },
    "language_info": {
      "name": "python"
    }
  },
  "nbformat": 4,
  "nbformat_minor": 0
}